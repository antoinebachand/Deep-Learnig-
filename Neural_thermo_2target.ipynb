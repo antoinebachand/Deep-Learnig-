{
  "nbformat": 4,
  "nbformat_minor": 0,
  "metadata": {
    "colab": {
      "name": "Neural_thermo_2target.ipynb",
      "provenance": [],
      "mount_file_id": "14bUrBmTEC1VUZYIH0ymqlcgS85J9FvVA",
      "authorship_tag": "ABX9TyOVJ0LG+9Aej/yYaHfsSCD2",
      "include_colab_link": true
    },
    "kernelspec": {
      "name": "python3",
      "display_name": "Python 3"
    },
    "language_info": {
      "name": "python"
    }
  },
  "cells": [
    {
      "cell_type": "markdown",
      "metadata": {
        "id": "view-in-github",
        "colab_type": "text"
      },
      "source": [
        "<a href=\"https://colab.research.google.com/github/antoinebachand/Deep-Learnig-/blob/main/Neural_thermo_2target.ipynb\" target=\"_parent\"><img src=\"https://colab.research.google.com/assets/colab-badge.svg\" alt=\"Open In Colab\"/></a>"
      ]
    },
    {
      "cell_type": "markdown",
      "source": [
        "# **Neural Network for Prediction of Hydrogen Thermodynamics**\n",
        "### Author: Antoine Bachand (antoinebachand@outlook.com)\n",
        "\n",
        "The training data set is obtained through a model adapted from Kushnir et al. (2012) for hydrogen storage. DOI: 10.1016/j.ijheatmasstransfer.2012.05.055 "
      ],
      "metadata": {
        "id": "UnfeNhAE_BIr"
      }
    },
    {
      "cell_type": "code",
      "execution_count": 1,
      "metadata": {
        "id": "EGHGTfER-6-A"
      },
      "outputs": [],
      "source": [
        "import pandas as pd\n",
        "\n",
        "from sklearn.model_selection import train_test_split\n",
        "from sklearn.preprocessing import MinMaxScaler\n",
        "from sklearn.preprocessing import StandardScaler\n",
        "\n",
        "import torch\n",
        "import torch.nn.functional as functional\n",
        "import torch.nn as nn"
      ]
    },
    {
      "cell_type": "markdown",
      "source": [
        "# Loading data"
      ],
      "metadata": {
        "id": "N-_WsJlOKW-8"
      }
    },
    {
      "cell_type": "code",
      "source": [
        "#load the data\n",
        "df = pd.read_csv('data.csv')\n",
        "df.columns = ['Injection Temperature (K)', 'Intitial Temperature (K)', 'Total Mass (kg)', 'Injection Time (s)', 'Max Pressure (MPa)','Max Temperature (Celsius)']\n"
      ],
      "metadata": {
        "id": "N7qpHfxCB9jK"
      },
      "execution_count": 10,
      "outputs": []
    },
    {
      "cell_type": "markdown",
      "source": [
        "The inputs to the neural network are:\n",
        "- Initial rock temperature (K)\n",
        "- Injection temperature (K)\n",
        "- Total injection mass (kg)\n",
        "- Injection time (s) \n",
        "\n",
        "and the outputs are as follows:\n",
        "- Maximum pressure ( MPa )\n",
        "- Maximum temperature ( °C )  "
      ],
      "metadata": {
        "id": "StTGTamrDypU"
      }
    },
    {
      "cell_type": "code",
      "source": [
        "df.head()"
      ],
      "metadata": {
        "colab": {
          "base_uri": "https://localhost:8080/",
          "height": 206
        },
        "id": "foQGUBIQDpWZ",
        "outputId": "b1ef90a7-58c0-4349-c18e-9cb3f7a4a893"
      },
      "execution_count": 11,
      "outputs": [
        {
          "output_type": "execute_result",
          "data": {
            "text/plain": [
              "   Injection Temperature (K)  Intitial Temperature (K)  Total Mass (kg)  \\\n",
              "0                 375.030504                309.254573      1008.433517   \n",
              "1                 351.170951                275.184665      1443.385908   \n",
              "2                 472.512070                305.464103      1251.924370   \n",
              "3                 300.509319                288.600197      1228.477505   \n",
              "4                 415.714802                297.733495      1891.034337   \n",
              "\n",
              "   Injection Time (s)  Max Pressure (MPa)  Max Temperature (Celsius)  \n",
              "0         7802.912741           48.811092                  91.867495  \n",
              "1         5630.677776           77.734770                  87.824516  \n",
              "2        12234.423440           68.366702                 112.732767  \n",
              "3        21488.955110           53.333108                  36.905345  \n",
              "4        21949.876650          122.041692                  96.263199  "
            ],
            "text/html": [
              "\n",
              "  <div id=\"df-ec43c2a4-b2c2-4683-81c0-a4f89daf802c\">\n",
              "    <div class=\"colab-df-container\">\n",
              "      <div>\n",
              "<style scoped>\n",
              "    .dataframe tbody tr th:only-of-type {\n",
              "        vertical-align: middle;\n",
              "    }\n",
              "\n",
              "    .dataframe tbody tr th {\n",
              "        vertical-align: top;\n",
              "    }\n",
              "\n",
              "    .dataframe thead th {\n",
              "        text-align: right;\n",
              "    }\n",
              "</style>\n",
              "<table border=\"1\" class=\"dataframe\">\n",
              "  <thead>\n",
              "    <tr style=\"text-align: right;\">\n",
              "      <th></th>\n",
              "      <th>Injection Temperature (K)</th>\n",
              "      <th>Intitial Temperature (K)</th>\n",
              "      <th>Total Mass (kg)</th>\n",
              "      <th>Injection Time (s)</th>\n",
              "      <th>Max Pressure (MPa)</th>\n",
              "      <th>Max Temperature (Celsius)</th>\n",
              "    </tr>\n",
              "  </thead>\n",
              "  <tbody>\n",
              "    <tr>\n",
              "      <th>0</th>\n",
              "      <td>375.030504</td>\n",
              "      <td>309.254573</td>\n",
              "      <td>1008.433517</td>\n",
              "      <td>7802.912741</td>\n",
              "      <td>48.811092</td>\n",
              "      <td>91.867495</td>\n",
              "    </tr>\n",
              "    <tr>\n",
              "      <th>1</th>\n",
              "      <td>351.170951</td>\n",
              "      <td>275.184665</td>\n",
              "      <td>1443.385908</td>\n",
              "      <td>5630.677776</td>\n",
              "      <td>77.734770</td>\n",
              "      <td>87.824516</td>\n",
              "    </tr>\n",
              "    <tr>\n",
              "      <th>2</th>\n",
              "      <td>472.512070</td>\n",
              "      <td>305.464103</td>\n",
              "      <td>1251.924370</td>\n",
              "      <td>12234.423440</td>\n",
              "      <td>68.366702</td>\n",
              "      <td>112.732767</td>\n",
              "    </tr>\n",
              "    <tr>\n",
              "      <th>3</th>\n",
              "      <td>300.509319</td>\n",
              "      <td>288.600197</td>\n",
              "      <td>1228.477505</td>\n",
              "      <td>21488.955110</td>\n",
              "      <td>53.333108</td>\n",
              "      <td>36.905345</td>\n",
              "    </tr>\n",
              "    <tr>\n",
              "      <th>4</th>\n",
              "      <td>415.714802</td>\n",
              "      <td>297.733495</td>\n",
              "      <td>1891.034337</td>\n",
              "      <td>21949.876650</td>\n",
              "      <td>122.041692</td>\n",
              "      <td>96.263199</td>\n",
              "    </tr>\n",
              "  </tbody>\n",
              "</table>\n",
              "</div>\n",
              "      <button class=\"colab-df-convert\" onclick=\"convertToInteractive('df-ec43c2a4-b2c2-4683-81c0-a4f89daf802c')\"\n",
              "              title=\"Convert this dataframe to an interactive table.\"\n",
              "              style=\"display:none;\">\n",
              "        \n",
              "  <svg xmlns=\"http://www.w3.org/2000/svg\" height=\"24px\"viewBox=\"0 0 24 24\"\n",
              "       width=\"24px\">\n",
              "    <path d=\"M0 0h24v24H0V0z\" fill=\"none\"/>\n",
              "    <path d=\"M18.56 5.44l.94 2.06.94-2.06 2.06-.94-2.06-.94-.94-2.06-.94 2.06-2.06.94zm-11 1L8.5 8.5l.94-2.06 2.06-.94-2.06-.94L8.5 2.5l-.94 2.06-2.06.94zm10 10l.94 2.06.94-2.06 2.06-.94-2.06-.94-.94-2.06-.94 2.06-2.06.94z\"/><path d=\"M17.41 7.96l-1.37-1.37c-.4-.4-.92-.59-1.43-.59-.52 0-1.04.2-1.43.59L10.3 9.45l-7.72 7.72c-.78.78-.78 2.05 0 2.83L4 21.41c.39.39.9.59 1.41.59.51 0 1.02-.2 1.41-.59l7.78-7.78 2.81-2.81c.8-.78.8-2.07 0-2.86zM5.41 20L4 18.59l7.72-7.72 1.47 1.35L5.41 20z\"/>\n",
              "  </svg>\n",
              "      </button>\n",
              "      \n",
              "  <style>\n",
              "    .colab-df-container {\n",
              "      display:flex;\n",
              "      flex-wrap:wrap;\n",
              "      gap: 12px;\n",
              "    }\n",
              "\n",
              "    .colab-df-convert {\n",
              "      background-color: #E8F0FE;\n",
              "      border: none;\n",
              "      border-radius: 50%;\n",
              "      cursor: pointer;\n",
              "      display: none;\n",
              "      fill: #1967D2;\n",
              "      height: 32px;\n",
              "      padding: 0 0 0 0;\n",
              "      width: 32px;\n",
              "    }\n",
              "\n",
              "    .colab-df-convert:hover {\n",
              "      background-color: #E2EBFA;\n",
              "      box-shadow: 0px 1px 2px rgba(60, 64, 67, 0.3), 0px 1px 3px 1px rgba(60, 64, 67, 0.15);\n",
              "      fill: #174EA6;\n",
              "    }\n",
              "\n",
              "    [theme=dark] .colab-df-convert {\n",
              "      background-color: #3B4455;\n",
              "      fill: #D2E3FC;\n",
              "    }\n",
              "\n",
              "    [theme=dark] .colab-df-convert:hover {\n",
              "      background-color: #434B5C;\n",
              "      box-shadow: 0px 1px 3px 1px rgba(0, 0, 0, 0.15);\n",
              "      filter: drop-shadow(0px 1px 2px rgba(0, 0, 0, 0.3));\n",
              "      fill: #FFFFFF;\n",
              "    }\n",
              "  </style>\n",
              "\n",
              "      <script>\n",
              "        const buttonEl =\n",
              "          document.querySelector('#df-ec43c2a4-b2c2-4683-81c0-a4f89daf802c button.colab-df-convert');\n",
              "        buttonEl.style.display =\n",
              "          google.colab.kernel.accessAllowed ? 'block' : 'none';\n",
              "\n",
              "        async function convertToInteractive(key) {\n",
              "          const element = document.querySelector('#df-ec43c2a4-b2c2-4683-81c0-a4f89daf802c');\n",
              "          const dataTable =\n",
              "            await google.colab.kernel.invokeFunction('convertToInteractive',\n",
              "                                                     [key], {});\n",
              "          if (!dataTable) return;\n",
              "\n",
              "          const docLinkHtml = 'Like what you see? Visit the ' +\n",
              "            '<a target=\"_blank\" href=https://colab.research.google.com/notebooks/data_table.ipynb>data table notebook</a>'\n",
              "            + ' to learn more about interactive tables.';\n",
              "          element.innerHTML = '';\n",
              "          dataTable['output_type'] = 'display_data';\n",
              "          await google.colab.output.renderOutput(dataTable, element);\n",
              "          const docLink = document.createElement('div');\n",
              "          docLink.innerHTML = docLinkHtml;\n",
              "          element.appendChild(docLink);\n",
              "        }\n",
              "      </script>\n",
              "    </div>\n",
              "  </div>\n",
              "  "
            ]
          },
          "metadata": {},
          "execution_count": 11
        }
      ]
    },
    {
      "cell_type": "markdown",
      "source": [
        "Since our different features are on different ranges, a normalization is applied. "
      ],
      "metadata": {
        "id": "91bTIRWfIPgL"
      }
    },
    {
      "cell_type": "code",
      "source": [
        "# Normalization\n",
        "norm = MinMaxScaler().fit(df) \n",
        "nd_norm = norm.transform(df)\n",
        "df_norm = pd.DataFrame(nd_norm)\n",
        "\n",
        "df_norm.columns = ['Injection Temperature (K)', 'Intitial Temperature (K)', 'Total Mass (kg)', 'Injection Time (s)', 'Max Pressure (MPa)','Max Temperature (Celsius)']\n"
      ],
      "metadata": {
        "id": "sbMvpQMRFsw0"
      },
      "execution_count": 12,
      "outputs": []
    },
    {
      "cell_type": "code",
      "source": [
        "df_norm.describe()"
      ],
      "metadata": {
        "colab": {
          "base_uri": "https://localhost:8080/",
          "height": 344
        },
        "id": "YnpCRng0G7di",
        "outputId": "18e6b5c3-8787-446c-cf30-5bb977ae6cbc"
      },
      "execution_count": 13,
      "outputs": [
        {
          "output_type": "execute_result",
          "data": {
            "text/plain": [
              "       Injection Temperature (K)  Intitial Temperature (K)  Total Mass (kg)  \\\n",
              "count                1000.000000               1000.000000      1000.000000   \n",
              "mean                    0.503607                  0.520212         0.501635   \n",
              "std                     0.291841                  0.291506         0.292448   \n",
              "min                     0.000000                  0.000000         0.000000   \n",
              "25%                     0.254583                  0.270495         0.243196   \n",
              "50%                     0.505140                  0.534312         0.501083   \n",
              "75%                     0.760425                  0.788682         0.769284   \n",
              "max                     1.000000                  1.000000         1.000000   \n",
              "\n",
              "       Injection Time (s)  Max Pressure (MPa)  Max Temperature (Celsius)  \n",
              "count         1000.000000         1000.000000                1000.000000  \n",
              "mean             0.511772            0.036351                   0.016290  \n",
              "std              0.279332            0.054182                   0.048852  \n",
              "min              0.000000            0.000000                   0.000000  \n",
              "25%              0.285297            0.012749                   0.007859  \n",
              "50%              0.520112            0.028623                   0.011561  \n",
              "75%              0.741848            0.051027                   0.015920  \n",
              "max              1.000000            1.000000                   1.000000  "
            ],
            "text/html": [
              "\n",
              "  <div id=\"df-cc962971-7649-46c5-8579-4dbc876a3f0d\">\n",
              "    <div class=\"colab-df-container\">\n",
              "      <div>\n",
              "<style scoped>\n",
              "    .dataframe tbody tr th:only-of-type {\n",
              "        vertical-align: middle;\n",
              "    }\n",
              "\n",
              "    .dataframe tbody tr th {\n",
              "        vertical-align: top;\n",
              "    }\n",
              "\n",
              "    .dataframe thead th {\n",
              "        text-align: right;\n",
              "    }\n",
              "</style>\n",
              "<table border=\"1\" class=\"dataframe\">\n",
              "  <thead>\n",
              "    <tr style=\"text-align: right;\">\n",
              "      <th></th>\n",
              "      <th>Injection Temperature (K)</th>\n",
              "      <th>Intitial Temperature (K)</th>\n",
              "      <th>Total Mass (kg)</th>\n",
              "      <th>Injection Time (s)</th>\n",
              "      <th>Max Pressure (MPa)</th>\n",
              "      <th>Max Temperature (Celsius)</th>\n",
              "    </tr>\n",
              "  </thead>\n",
              "  <tbody>\n",
              "    <tr>\n",
              "      <th>count</th>\n",
              "      <td>1000.000000</td>\n",
              "      <td>1000.000000</td>\n",
              "      <td>1000.000000</td>\n",
              "      <td>1000.000000</td>\n",
              "      <td>1000.000000</td>\n",
              "      <td>1000.000000</td>\n",
              "    </tr>\n",
              "    <tr>\n",
              "      <th>mean</th>\n",
              "      <td>0.503607</td>\n",
              "      <td>0.520212</td>\n",
              "      <td>0.501635</td>\n",
              "      <td>0.511772</td>\n",
              "      <td>0.036351</td>\n",
              "      <td>0.016290</td>\n",
              "    </tr>\n",
              "    <tr>\n",
              "      <th>std</th>\n",
              "      <td>0.291841</td>\n",
              "      <td>0.291506</td>\n",
              "      <td>0.292448</td>\n",
              "      <td>0.279332</td>\n",
              "      <td>0.054182</td>\n",
              "      <td>0.048852</td>\n",
              "    </tr>\n",
              "    <tr>\n",
              "      <th>min</th>\n",
              "      <td>0.000000</td>\n",
              "      <td>0.000000</td>\n",
              "      <td>0.000000</td>\n",
              "      <td>0.000000</td>\n",
              "      <td>0.000000</td>\n",
              "      <td>0.000000</td>\n",
              "    </tr>\n",
              "    <tr>\n",
              "      <th>25%</th>\n",
              "      <td>0.254583</td>\n",
              "      <td>0.270495</td>\n",
              "      <td>0.243196</td>\n",
              "      <td>0.285297</td>\n",
              "      <td>0.012749</td>\n",
              "      <td>0.007859</td>\n",
              "    </tr>\n",
              "    <tr>\n",
              "      <th>50%</th>\n",
              "      <td>0.505140</td>\n",
              "      <td>0.534312</td>\n",
              "      <td>0.501083</td>\n",
              "      <td>0.520112</td>\n",
              "      <td>0.028623</td>\n",
              "      <td>0.011561</td>\n",
              "    </tr>\n",
              "    <tr>\n",
              "      <th>75%</th>\n",
              "      <td>0.760425</td>\n",
              "      <td>0.788682</td>\n",
              "      <td>0.769284</td>\n",
              "      <td>0.741848</td>\n",
              "      <td>0.051027</td>\n",
              "      <td>0.015920</td>\n",
              "    </tr>\n",
              "    <tr>\n",
              "      <th>max</th>\n",
              "      <td>1.000000</td>\n",
              "      <td>1.000000</td>\n",
              "      <td>1.000000</td>\n",
              "      <td>1.000000</td>\n",
              "      <td>1.000000</td>\n",
              "      <td>1.000000</td>\n",
              "    </tr>\n",
              "  </tbody>\n",
              "</table>\n",
              "</div>\n",
              "      <button class=\"colab-df-convert\" onclick=\"convertToInteractive('df-cc962971-7649-46c5-8579-4dbc876a3f0d')\"\n",
              "              title=\"Convert this dataframe to an interactive table.\"\n",
              "              style=\"display:none;\">\n",
              "        \n",
              "  <svg xmlns=\"http://www.w3.org/2000/svg\" height=\"24px\"viewBox=\"0 0 24 24\"\n",
              "       width=\"24px\">\n",
              "    <path d=\"M0 0h24v24H0V0z\" fill=\"none\"/>\n",
              "    <path d=\"M18.56 5.44l.94 2.06.94-2.06 2.06-.94-2.06-.94-.94-2.06-.94 2.06-2.06.94zm-11 1L8.5 8.5l.94-2.06 2.06-.94-2.06-.94L8.5 2.5l-.94 2.06-2.06.94zm10 10l.94 2.06.94-2.06 2.06-.94-2.06-.94-.94-2.06-.94 2.06-2.06.94z\"/><path d=\"M17.41 7.96l-1.37-1.37c-.4-.4-.92-.59-1.43-.59-.52 0-1.04.2-1.43.59L10.3 9.45l-7.72 7.72c-.78.78-.78 2.05 0 2.83L4 21.41c.39.39.9.59 1.41.59.51 0 1.02-.2 1.41-.59l7.78-7.78 2.81-2.81c.8-.78.8-2.07 0-2.86zM5.41 20L4 18.59l7.72-7.72 1.47 1.35L5.41 20z\"/>\n",
              "  </svg>\n",
              "      </button>\n",
              "      \n",
              "  <style>\n",
              "    .colab-df-container {\n",
              "      display:flex;\n",
              "      flex-wrap:wrap;\n",
              "      gap: 12px;\n",
              "    }\n",
              "\n",
              "    .colab-df-convert {\n",
              "      background-color: #E8F0FE;\n",
              "      border: none;\n",
              "      border-radius: 50%;\n",
              "      cursor: pointer;\n",
              "      display: none;\n",
              "      fill: #1967D2;\n",
              "      height: 32px;\n",
              "      padding: 0 0 0 0;\n",
              "      width: 32px;\n",
              "    }\n",
              "\n",
              "    .colab-df-convert:hover {\n",
              "      background-color: #E2EBFA;\n",
              "      box-shadow: 0px 1px 2px rgba(60, 64, 67, 0.3), 0px 1px 3px 1px rgba(60, 64, 67, 0.15);\n",
              "      fill: #174EA6;\n",
              "    }\n",
              "\n",
              "    [theme=dark] .colab-df-convert {\n",
              "      background-color: #3B4455;\n",
              "      fill: #D2E3FC;\n",
              "    }\n",
              "\n",
              "    [theme=dark] .colab-df-convert:hover {\n",
              "      background-color: #434B5C;\n",
              "      box-shadow: 0px 1px 3px 1px rgba(0, 0, 0, 0.15);\n",
              "      filter: drop-shadow(0px 1px 2px rgba(0, 0, 0, 0.3));\n",
              "      fill: #FFFFFF;\n",
              "    }\n",
              "  </style>\n",
              "\n",
              "      <script>\n",
              "        const buttonEl =\n",
              "          document.querySelector('#df-cc962971-7649-46c5-8579-4dbc876a3f0d button.colab-df-convert');\n",
              "        buttonEl.style.display =\n",
              "          google.colab.kernel.accessAllowed ? 'block' : 'none';\n",
              "\n",
              "        async function convertToInteractive(key) {\n",
              "          const element = document.querySelector('#df-cc962971-7649-46c5-8579-4dbc876a3f0d');\n",
              "          const dataTable =\n",
              "            await google.colab.kernel.invokeFunction('convertToInteractive',\n",
              "                                                     [key], {});\n",
              "          if (!dataTable) return;\n",
              "\n",
              "          const docLinkHtml = 'Like what you see? Visit the ' +\n",
              "            '<a target=\"_blank\" href=https://colab.research.google.com/notebooks/data_table.ipynb>data table notebook</a>'\n",
              "            + ' to learn more about interactive tables.';\n",
              "          element.innerHTML = '';\n",
              "          dataTable['output_type'] = 'display_data';\n",
              "          await google.colab.output.renderOutput(dataTable, element);\n",
              "          const docLink = document.createElement('div');\n",
              "          docLink.innerHTML = docLinkHtml;\n",
              "          element.appendChild(docLink);\n",
              "        }\n",
              "      </script>\n",
              "    </div>\n",
              "  </div>\n",
              "  "
            ]
          },
          "metadata": {},
          "execution_count": 13
        }
      ]
    },
    {
      "cell_type": "markdown",
      "source": [
        "#Preparing data for training/testing"
      ],
      "metadata": {
        "id": "n-hiEOOTKejQ"
      }
    },
    {
      "cell_type": "markdown",
      "source": [
        "Here we split the data between training (80%) and testing (20%) in order to test the neural network with unseen data"
      ],
      "metadata": {
        "id": "o8IBvf0cL-IX"
      }
    },
    {
      "cell_type": "code",
      "source": [
        "# The columns are split between independent (Input) and dependent (Output)\n",
        "columns = df_norm.columns.values.tolist()\n",
        "# The independent ones correspond to the last two columns of the data set. \n",
        "independent = columns[:-2]\n",
        "dependent = columns[-2]                 # columns[-2:]\n",
        "\n",
        "# The test data size is set at 20%. \n",
        "X_train, X_test, y_train, y_test = train_test_split(df_norm[independent],df_norm[dependent], test_size=0.2)\n"
      ],
      "metadata": {
        "id": "8M9pjtjuKxAq"
      },
      "execution_count": 42,
      "outputs": []
    },
    {
      "cell_type": "markdown",
      "source": [
        "Now we will create the tensors. They correspond to the structure used to store information/data in machine learning. \n",
        "\n",
        "Also, since the stochastic gradient descent computes the gradient on a subset of the training data, as opposed to the entire training dataset, we need to specify a batch size. Therefore, to avoid generalization, we will use a small batch size of 50. "
      ],
      "metadata": {
        "id": "b-GQ910HRrRt"
      }
    },
    {
      "cell_type": "code",
      "source": [
        "BATCH_SIZE = 50\n",
        "# Tensor for the training data and the value type is float \n",
        "X = torch.tensor(X_train.values, dtype=torch.float)\n",
        "y = torch.tensor(y_train.values, dtype=torch.float)\n",
        "\n",
        "train_ds = torch.utils.data.TensorDataset(X,y)\n",
        "\n",
        "# Tensor for the testing data and the value type is float\n",
        "X = torch.tensor(X_test.values, dtype=torch.float)\n",
        "y = torch.tensor(y_test.values, dtype=torch.float)\n",
        "\n",
        "test_ds = torch.utils.data.TensorDataset(X,y)\n",
        "\n",
        "# We shuffle the training dataset\n",
        "train_dl = torch.utils.data.DataLoader(train_ds, batch_size=BATCH_SIZE,shuffle=True)\n",
        "test_dl = torch.utils.data.DataLoader(test_ds, batch_size=BATCH_SIZE, shuffle=False)"
      ],
      "metadata": {
        "id": "JP7xVAGySef3"
      },
      "execution_count": 43,
      "outputs": []
    },
    {
      "cell_type": "markdown",
      "source": [
        "# Network architecture"
      ],
      "metadata": {
        "id": "b__ZEydpSsah"
      }
    },
    {
      "cell_type": "code",
      "source": [
        ""
      ],
      "metadata": {
        "id": "eXCntKuIfUY6"
      },
      "execution_count": 41,
      "outputs": []
    },
    {
      "cell_type": "markdown",
      "source": [
        "# Training"
      ],
      "metadata": {
        "id": "8zTMg6t8f8Pu"
      }
    },
    {
      "cell_type": "code",
      "source": [
        ""
      ],
      "metadata": {
        "id": "eaAT7kmFgAqQ"
      },
      "execution_count": 41,
      "outputs": []
    },
    {
      "cell_type": "markdown",
      "source": [
        ""
      ],
      "metadata": {
        "id": "txiWg7CUjEl_"
      }
    },
    {
      "cell_type": "markdown",
      "source": [
        "# Regularization"
      ],
      "metadata": {
        "id": "VIayS03eSfFK"
      }
    }
  ]
}