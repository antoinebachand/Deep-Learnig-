{
  "nbformat": 4,
  "nbformat_minor": 0,
  "metadata": {
    "colab": {
      "name": "Lab_Antoine.ipynb",
      "provenance": [],
      "include_colab_link": true
    },
    "kernelspec": {
      "name": "python3",
      "display_name": "Python 3"
    },
    "language_info": {
      "name": "python"
    },
    "widgets": {
      "application/vnd.jupyter.widget-state+json": {
        "8e4e271d2b5f46d49343f2795211fb9c": {
          "model_module": "@jupyter-widgets/controls",
          "model_name": "HBoxModel",
          "model_module_version": "1.5.0",
          "state": {
            "_view_name": "HBoxView",
            "_dom_classes": [],
            "_model_name": "HBoxModel",
            "_view_module": "@jupyter-widgets/controls",
            "_model_module_version": "1.5.0",
            "_view_count": null,
            "_view_module_version": "1.5.0",
            "box_style": "",
            "layout": "IPY_MODEL_334a9c3fd22d40db94523276699913b7",
            "_model_module": "@jupyter-widgets/controls",
            "children": [
              "IPY_MODEL_0ed4dcac0e634e7184fd81c1bea92df7",
              "IPY_MODEL_5adb812a6c984782ad89bf7ffe68846a",
              "IPY_MODEL_acf44e6ad7a24f0e8ce97e9d8d094492"
            ]
          }
        },
        "334a9c3fd22d40db94523276699913b7": {
          "model_module": "@jupyter-widgets/base",
          "model_name": "LayoutModel",
          "model_module_version": "1.2.0",
          "state": {
            "_view_name": "LayoutView",
            "grid_template_rows": null,
            "right": null,
            "justify_content": null,
            "_view_module": "@jupyter-widgets/base",
            "overflow": null,
            "_model_module_version": "1.2.0",
            "_view_count": null,
            "flex_flow": null,
            "width": null,
            "min_width": null,
            "border": null,
            "align_items": null,
            "bottom": null,
            "_model_module": "@jupyter-widgets/base",
            "top": null,
            "grid_column": null,
            "overflow_y": null,
            "overflow_x": null,
            "grid_auto_flow": null,
            "grid_area": null,
            "grid_template_columns": null,
            "flex": null,
            "_model_name": "LayoutModel",
            "justify_items": null,
            "grid_row": null,
            "max_height": null,
            "align_content": null,
            "visibility": null,
            "align_self": null,
            "height": null,
            "min_height": null,
            "padding": null,
            "grid_auto_rows": null,
            "grid_gap": null,
            "max_width": null,
            "order": null,
            "_view_module_version": "1.2.0",
            "grid_template_areas": null,
            "object_position": null,
            "object_fit": null,
            "grid_auto_columns": null,
            "margin": null,
            "display": null,
            "left": null
          }
        },
        "0ed4dcac0e634e7184fd81c1bea92df7": {
          "model_module": "@jupyter-widgets/controls",
          "model_name": "HTMLModel",
          "model_module_version": "1.5.0",
          "state": {
            "_view_name": "HTMLView",
            "style": "IPY_MODEL_e4daa136c3b44dfea613513fec686a18",
            "_dom_classes": [],
            "description": "",
            "_model_name": "HTMLModel",
            "placeholder": "​",
            "_view_module": "@jupyter-widgets/controls",
            "_model_module_version": "1.5.0",
            "value": "",
            "_view_count": null,
            "_view_module_version": "1.5.0",
            "description_tooltip": null,
            "_model_module": "@jupyter-widgets/controls",
            "layout": "IPY_MODEL_a9ce3f539781413b8eff2f0da08649d0"
          }
        },
        "5adb812a6c984782ad89bf7ffe68846a": {
          "model_module": "@jupyter-widgets/controls",
          "model_name": "FloatProgressModel",
          "model_module_version": "1.5.0",
          "state": {
            "_view_name": "ProgressView",
            "style": "IPY_MODEL_2453b294bfb2496581ea55c4e36b3105",
            "_dom_classes": [],
            "description": "",
            "_model_name": "FloatProgressModel",
            "bar_style": "success",
            "max": 9912422,
            "_view_module": "@jupyter-widgets/controls",
            "_model_module_version": "1.5.0",
            "value": 9912422,
            "_view_count": null,
            "_view_module_version": "1.5.0",
            "orientation": "horizontal",
            "min": 0,
            "description_tooltip": null,
            "_model_module": "@jupyter-widgets/controls",
            "layout": "IPY_MODEL_78ef0ea9f85c4e6e9b1c2956b4ce737e"
          }
        },
        "acf44e6ad7a24f0e8ce97e9d8d094492": {
          "model_module": "@jupyter-widgets/controls",
          "model_name": "HTMLModel",
          "model_module_version": "1.5.0",
          "state": {
            "_view_name": "HTMLView",
            "style": "IPY_MODEL_77674d47186c4b26a4a34972dfce1d8c",
            "_dom_classes": [],
            "description": "",
            "_model_name": "HTMLModel",
            "placeholder": "​",
            "_view_module": "@jupyter-widgets/controls",
            "_model_module_version": "1.5.0",
            "value": " 9913344/? [00:00&lt;00:00, 18452686.44it/s]",
            "_view_count": null,
            "_view_module_version": "1.5.0",
            "description_tooltip": null,
            "_model_module": "@jupyter-widgets/controls",
            "layout": "IPY_MODEL_e274eacb81af4de58d299da51223ec44"
          }
        },
        "e4daa136c3b44dfea613513fec686a18": {
          "model_module": "@jupyter-widgets/controls",
          "model_name": "DescriptionStyleModel",
          "model_module_version": "1.5.0",
          "state": {
            "_view_name": "StyleView",
            "_model_name": "DescriptionStyleModel",
            "description_width": "",
            "_view_module": "@jupyter-widgets/base",
            "_model_module_version": "1.5.0",
            "_view_count": null,
            "_view_module_version": "1.2.0",
            "_model_module": "@jupyter-widgets/controls"
          }
        },
        "a9ce3f539781413b8eff2f0da08649d0": {
          "model_module": "@jupyter-widgets/base",
          "model_name": "LayoutModel",
          "model_module_version": "1.2.0",
          "state": {
            "_view_name": "LayoutView",
            "grid_template_rows": null,
            "right": null,
            "justify_content": null,
            "_view_module": "@jupyter-widgets/base",
            "overflow": null,
            "_model_module_version": "1.2.0",
            "_view_count": null,
            "flex_flow": null,
            "width": null,
            "min_width": null,
            "border": null,
            "align_items": null,
            "bottom": null,
            "_model_module": "@jupyter-widgets/base",
            "top": null,
            "grid_column": null,
            "overflow_y": null,
            "overflow_x": null,
            "grid_auto_flow": null,
            "grid_area": null,
            "grid_template_columns": null,
            "flex": null,
            "_model_name": "LayoutModel",
            "justify_items": null,
            "grid_row": null,
            "max_height": null,
            "align_content": null,
            "visibility": null,
            "align_self": null,
            "height": null,
            "min_height": null,
            "padding": null,
            "grid_auto_rows": null,
            "grid_gap": null,
            "max_width": null,
            "order": null,
            "_view_module_version": "1.2.0",
            "grid_template_areas": null,
            "object_position": null,
            "object_fit": null,
            "grid_auto_columns": null,
            "margin": null,
            "display": null,
            "left": null
          }
        },
        "2453b294bfb2496581ea55c4e36b3105": {
          "model_module": "@jupyter-widgets/controls",
          "model_name": "ProgressStyleModel",
          "model_module_version": "1.5.0",
          "state": {
            "_view_name": "StyleView",
            "_model_name": "ProgressStyleModel",
            "description_width": "",
            "_view_module": "@jupyter-widgets/base",
            "_model_module_version": "1.5.0",
            "_view_count": null,
            "_view_module_version": "1.2.0",
            "bar_color": null,
            "_model_module": "@jupyter-widgets/controls"
          }
        },
        "78ef0ea9f85c4e6e9b1c2956b4ce737e": {
          "model_module": "@jupyter-widgets/base",
          "model_name": "LayoutModel",
          "model_module_version": "1.2.0",
          "state": {
            "_view_name": "LayoutView",
            "grid_template_rows": null,
            "right": null,
            "justify_content": null,
            "_view_module": "@jupyter-widgets/base",
            "overflow": null,
            "_model_module_version": "1.2.0",
            "_view_count": null,
            "flex_flow": null,
            "width": null,
            "min_width": null,
            "border": null,
            "align_items": null,
            "bottom": null,
            "_model_module": "@jupyter-widgets/base",
            "top": null,
            "grid_column": null,
            "overflow_y": null,
            "overflow_x": null,
            "grid_auto_flow": null,
            "grid_area": null,
            "grid_template_columns": null,
            "flex": null,
            "_model_name": "LayoutModel",
            "justify_items": null,
            "grid_row": null,
            "max_height": null,
            "align_content": null,
            "visibility": null,
            "align_self": null,
            "height": null,
            "min_height": null,
            "padding": null,
            "grid_auto_rows": null,
            "grid_gap": null,
            "max_width": null,
            "order": null,
            "_view_module_version": "1.2.0",
            "grid_template_areas": null,
            "object_position": null,
            "object_fit": null,
            "grid_auto_columns": null,
            "margin": null,
            "display": null,
            "left": null
          }
        },
        "77674d47186c4b26a4a34972dfce1d8c": {
          "model_module": "@jupyter-widgets/controls",
          "model_name": "DescriptionStyleModel",
          "model_module_version": "1.5.0",
          "state": {
            "_view_name": "StyleView",
            "_model_name": "DescriptionStyleModel",
            "description_width": "",
            "_view_module": "@jupyter-widgets/base",
            "_model_module_version": "1.5.0",
            "_view_count": null,
            "_view_module_version": "1.2.0",
            "_model_module": "@jupyter-widgets/controls"
          }
        },
        "e274eacb81af4de58d299da51223ec44": {
          "model_module": "@jupyter-widgets/base",
          "model_name": "LayoutModel",
          "model_module_version": "1.2.0",
          "state": {
            "_view_name": "LayoutView",
            "grid_template_rows": null,
            "right": null,
            "justify_content": null,
            "_view_module": "@jupyter-widgets/base",
            "overflow": null,
            "_model_module_version": "1.2.0",
            "_view_count": null,
            "flex_flow": null,
            "width": null,
            "min_width": null,
            "border": null,
            "align_items": null,
            "bottom": null,
            "_model_module": "@jupyter-widgets/base",
            "top": null,
            "grid_column": null,
            "overflow_y": null,
            "overflow_x": null,
            "grid_auto_flow": null,
            "grid_area": null,
            "grid_template_columns": null,
            "flex": null,
            "_model_name": "LayoutModel",
            "justify_items": null,
            "grid_row": null,
            "max_height": null,
            "align_content": null,
            "visibility": null,
            "align_self": null,
            "height": null,
            "min_height": null,
            "padding": null,
            "grid_auto_rows": null,
            "grid_gap": null,
            "max_width": null,
            "order": null,
            "_view_module_version": "1.2.0",
            "grid_template_areas": null,
            "object_position": null,
            "object_fit": null,
            "grid_auto_columns": null,
            "margin": null,
            "display": null,
            "left": null
          }
        },
        "5cab794d80924ea48888717e079da63a": {
          "model_module": "@jupyter-widgets/controls",
          "model_name": "HBoxModel",
          "model_module_version": "1.5.0",
          "state": {
            "_view_name": "HBoxView",
            "_dom_classes": [],
            "_model_name": "HBoxModel",
            "_view_module": "@jupyter-widgets/controls",
            "_model_module_version": "1.5.0",
            "_view_count": null,
            "_view_module_version": "1.5.0",
            "box_style": "",
            "layout": "IPY_MODEL_3fa5423dd2af46c9895e1cabba7fd9f9",
            "_model_module": "@jupyter-widgets/controls",
            "children": [
              "IPY_MODEL_7d3119af4af24dd9916d187d0bc559c3",
              "IPY_MODEL_3dc4e58f89db498981b90199f5b3a415",
              "IPY_MODEL_eb0e2abb33df4c7f8e3584039236f428"
            ]
          }
        },
        "3fa5423dd2af46c9895e1cabba7fd9f9": {
          "model_module": "@jupyter-widgets/base",
          "model_name": "LayoutModel",
          "model_module_version": "1.2.0",
          "state": {
            "_view_name": "LayoutView",
            "grid_template_rows": null,
            "right": null,
            "justify_content": null,
            "_view_module": "@jupyter-widgets/base",
            "overflow": null,
            "_model_module_version": "1.2.0",
            "_view_count": null,
            "flex_flow": null,
            "width": null,
            "min_width": null,
            "border": null,
            "align_items": null,
            "bottom": null,
            "_model_module": "@jupyter-widgets/base",
            "top": null,
            "grid_column": null,
            "overflow_y": null,
            "overflow_x": null,
            "grid_auto_flow": null,
            "grid_area": null,
            "grid_template_columns": null,
            "flex": null,
            "_model_name": "LayoutModel",
            "justify_items": null,
            "grid_row": null,
            "max_height": null,
            "align_content": null,
            "visibility": null,
            "align_self": null,
            "height": null,
            "min_height": null,
            "padding": null,
            "grid_auto_rows": null,
            "grid_gap": null,
            "max_width": null,
            "order": null,
            "_view_module_version": "1.2.0",
            "grid_template_areas": null,
            "object_position": null,
            "object_fit": null,
            "grid_auto_columns": null,
            "margin": null,
            "display": null,
            "left": null
          }
        },
        "7d3119af4af24dd9916d187d0bc559c3": {
          "model_module": "@jupyter-widgets/controls",
          "model_name": "HTMLModel",
          "model_module_version": "1.5.0",
          "state": {
            "_view_name": "HTMLView",
            "style": "IPY_MODEL_64b31e0b6574495c9e43e43f07d455d7",
            "_dom_classes": [],
            "description": "",
            "_model_name": "HTMLModel",
            "placeholder": "​",
            "_view_module": "@jupyter-widgets/controls",
            "_model_module_version": "1.5.0",
            "value": "",
            "_view_count": null,
            "_view_module_version": "1.5.0",
            "description_tooltip": null,
            "_model_module": "@jupyter-widgets/controls",
            "layout": "IPY_MODEL_43340bfca8784b23ba3799aca4e54b5d"
          }
        },
        "3dc4e58f89db498981b90199f5b3a415": {
          "model_module": "@jupyter-widgets/controls",
          "model_name": "FloatProgressModel",
          "model_module_version": "1.5.0",
          "state": {
            "_view_name": "ProgressView",
            "style": "IPY_MODEL_964b7961890e40e2a5039f45c12968df",
            "_dom_classes": [],
            "description": "",
            "_model_name": "FloatProgressModel",
            "bar_style": "success",
            "max": 28881,
            "_view_module": "@jupyter-widgets/controls",
            "_model_module_version": "1.5.0",
            "value": 28881,
            "_view_count": null,
            "_view_module_version": "1.5.0",
            "orientation": "horizontal",
            "min": 0,
            "description_tooltip": null,
            "_model_module": "@jupyter-widgets/controls",
            "layout": "IPY_MODEL_68856a5ae9c047d5adf177351d2affba"
          }
        },
        "eb0e2abb33df4c7f8e3584039236f428": {
          "model_module": "@jupyter-widgets/controls",
          "model_name": "HTMLModel",
          "model_module_version": "1.5.0",
          "state": {
            "_view_name": "HTMLView",
            "style": "IPY_MODEL_78297ca81d8a4b5faae06520745e65aa",
            "_dom_classes": [],
            "description": "",
            "_model_name": "HTMLModel",
            "placeholder": "​",
            "_view_module": "@jupyter-widgets/controls",
            "_model_module_version": "1.5.0",
            "value": " 29696/? [00:00&lt;00:00, 818099.76it/s]",
            "_view_count": null,
            "_view_module_version": "1.5.0",
            "description_tooltip": null,
            "_model_module": "@jupyter-widgets/controls",
            "layout": "IPY_MODEL_89850830df754c10948696b4e70a5b27"
          }
        },
        "64b31e0b6574495c9e43e43f07d455d7": {
          "model_module": "@jupyter-widgets/controls",
          "model_name": "DescriptionStyleModel",
          "model_module_version": "1.5.0",
          "state": {
            "_view_name": "StyleView",
            "_model_name": "DescriptionStyleModel",
            "description_width": "",
            "_view_module": "@jupyter-widgets/base",
            "_model_module_version": "1.5.0",
            "_view_count": null,
            "_view_module_version": "1.2.0",
            "_model_module": "@jupyter-widgets/controls"
          }
        },
        "43340bfca8784b23ba3799aca4e54b5d": {
          "model_module": "@jupyter-widgets/base",
          "model_name": "LayoutModel",
          "model_module_version": "1.2.0",
          "state": {
            "_view_name": "LayoutView",
            "grid_template_rows": null,
            "right": null,
            "justify_content": null,
            "_view_module": "@jupyter-widgets/base",
            "overflow": null,
            "_model_module_version": "1.2.0",
            "_view_count": null,
            "flex_flow": null,
            "width": null,
            "min_width": null,
            "border": null,
            "align_items": null,
            "bottom": null,
            "_model_module": "@jupyter-widgets/base",
            "top": null,
            "grid_column": null,
            "overflow_y": null,
            "overflow_x": null,
            "grid_auto_flow": null,
            "grid_area": null,
            "grid_template_columns": null,
            "flex": null,
            "_model_name": "LayoutModel",
            "justify_items": null,
            "grid_row": null,
            "max_height": null,
            "align_content": null,
            "visibility": null,
            "align_self": null,
            "height": null,
            "min_height": null,
            "padding": null,
            "grid_auto_rows": null,
            "grid_gap": null,
            "max_width": null,
            "order": null,
            "_view_module_version": "1.2.0",
            "grid_template_areas": null,
            "object_position": null,
            "object_fit": null,
            "grid_auto_columns": null,
            "margin": null,
            "display": null,
            "left": null
          }
        },
        "964b7961890e40e2a5039f45c12968df": {
          "model_module": "@jupyter-widgets/controls",
          "model_name": "ProgressStyleModel",
          "model_module_version": "1.5.0",
          "state": {
            "_view_name": "StyleView",
            "_model_name": "ProgressStyleModel",
            "description_width": "",
            "_view_module": "@jupyter-widgets/base",
            "_model_module_version": "1.5.0",
            "_view_count": null,
            "_view_module_version": "1.2.0",
            "bar_color": null,
            "_model_module": "@jupyter-widgets/controls"
          }
        },
        "68856a5ae9c047d5adf177351d2affba": {
          "model_module": "@jupyter-widgets/base",
          "model_name": "LayoutModel",
          "model_module_version": "1.2.0",
          "state": {
            "_view_name": "LayoutView",
            "grid_template_rows": null,
            "right": null,
            "justify_content": null,
            "_view_module": "@jupyter-widgets/base",
            "overflow": null,
            "_model_module_version": "1.2.0",
            "_view_count": null,
            "flex_flow": null,
            "width": null,
            "min_width": null,
            "border": null,
            "align_items": null,
            "bottom": null,
            "_model_module": "@jupyter-widgets/base",
            "top": null,
            "grid_column": null,
            "overflow_y": null,
            "overflow_x": null,
            "grid_auto_flow": null,
            "grid_area": null,
            "grid_template_columns": null,
            "flex": null,
            "_model_name": "LayoutModel",
            "justify_items": null,
            "grid_row": null,
            "max_height": null,
            "align_content": null,
            "visibility": null,
            "align_self": null,
            "height": null,
            "min_height": null,
            "padding": null,
            "grid_auto_rows": null,
            "grid_gap": null,
            "max_width": null,
            "order": null,
            "_view_module_version": "1.2.0",
            "grid_template_areas": null,
            "object_position": null,
            "object_fit": null,
            "grid_auto_columns": null,
            "margin": null,
            "display": null,
            "left": null
          }
        },
        "78297ca81d8a4b5faae06520745e65aa": {
          "model_module": "@jupyter-widgets/controls",
          "model_name": "DescriptionStyleModel",
          "model_module_version": "1.5.0",
          "state": {
            "_view_name": "StyleView",
            "_model_name": "DescriptionStyleModel",
            "description_width": "",
            "_view_module": "@jupyter-widgets/base",
            "_model_module_version": "1.5.0",
            "_view_count": null,
            "_view_module_version": "1.2.0",
            "_model_module": "@jupyter-widgets/controls"
          }
        },
        "89850830df754c10948696b4e70a5b27": {
          "model_module": "@jupyter-widgets/base",
          "model_name": "LayoutModel",
          "model_module_version": "1.2.0",
          "state": {
            "_view_name": "LayoutView",
            "grid_template_rows": null,
            "right": null,
            "justify_content": null,
            "_view_module": "@jupyter-widgets/base",
            "overflow": null,
            "_model_module_version": "1.2.0",
            "_view_count": null,
            "flex_flow": null,
            "width": null,
            "min_width": null,
            "border": null,
            "align_items": null,
            "bottom": null,
            "_model_module": "@jupyter-widgets/base",
            "top": null,
            "grid_column": null,
            "overflow_y": null,
            "overflow_x": null,
            "grid_auto_flow": null,
            "grid_area": null,
            "grid_template_columns": null,
            "flex": null,
            "_model_name": "LayoutModel",
            "justify_items": null,
            "grid_row": null,
            "max_height": null,
            "align_content": null,
            "visibility": null,
            "align_self": null,
            "height": null,
            "min_height": null,
            "padding": null,
            "grid_auto_rows": null,
            "grid_gap": null,
            "max_width": null,
            "order": null,
            "_view_module_version": "1.2.0",
            "grid_template_areas": null,
            "object_position": null,
            "object_fit": null,
            "grid_auto_columns": null,
            "margin": null,
            "display": null,
            "left": null
          }
        },
        "6c107be16c8c47a88331f3ee1248971a": {
          "model_module": "@jupyter-widgets/controls",
          "model_name": "HBoxModel",
          "model_module_version": "1.5.0",
          "state": {
            "_view_name": "HBoxView",
            "_dom_classes": [],
            "_model_name": "HBoxModel",
            "_view_module": "@jupyter-widgets/controls",
            "_model_module_version": "1.5.0",
            "_view_count": null,
            "_view_module_version": "1.5.0",
            "box_style": "",
            "layout": "IPY_MODEL_ecda35201e6b475a8db26df192ec5099",
            "_model_module": "@jupyter-widgets/controls",
            "children": [
              "IPY_MODEL_2abbfb3dbe7049019e52f1d2dfac8f42",
              "IPY_MODEL_088e08ccfb0b48d78ee43dc160558766",
              "IPY_MODEL_8e1f203570ab410389372ec77e0913cf"
            ]
          }
        },
        "ecda35201e6b475a8db26df192ec5099": {
          "model_module": "@jupyter-widgets/base",
          "model_name": "LayoutModel",
          "model_module_version": "1.2.0",
          "state": {
            "_view_name": "LayoutView",
            "grid_template_rows": null,
            "right": null,
            "justify_content": null,
            "_view_module": "@jupyter-widgets/base",
            "overflow": null,
            "_model_module_version": "1.2.0",
            "_view_count": null,
            "flex_flow": null,
            "width": null,
            "min_width": null,
            "border": null,
            "align_items": null,
            "bottom": null,
            "_model_module": "@jupyter-widgets/base",
            "top": null,
            "grid_column": null,
            "overflow_y": null,
            "overflow_x": null,
            "grid_auto_flow": null,
            "grid_area": null,
            "grid_template_columns": null,
            "flex": null,
            "_model_name": "LayoutModel",
            "justify_items": null,
            "grid_row": null,
            "max_height": null,
            "align_content": null,
            "visibility": null,
            "align_self": null,
            "height": null,
            "min_height": null,
            "padding": null,
            "grid_auto_rows": null,
            "grid_gap": null,
            "max_width": null,
            "order": null,
            "_view_module_version": "1.2.0",
            "grid_template_areas": null,
            "object_position": null,
            "object_fit": null,
            "grid_auto_columns": null,
            "margin": null,
            "display": null,
            "left": null
          }
        },
        "2abbfb3dbe7049019e52f1d2dfac8f42": {
          "model_module": "@jupyter-widgets/controls",
          "model_name": "HTMLModel",
          "model_module_version": "1.5.0",
          "state": {
            "_view_name": "HTMLView",
            "style": "IPY_MODEL_acdb63b218fe40bdaee90a092056b664",
            "_dom_classes": [],
            "description": "",
            "_model_name": "HTMLModel",
            "placeholder": "​",
            "_view_module": "@jupyter-widgets/controls",
            "_model_module_version": "1.5.0",
            "value": "",
            "_view_count": null,
            "_view_module_version": "1.5.0",
            "description_tooltip": null,
            "_model_module": "@jupyter-widgets/controls",
            "layout": "IPY_MODEL_f758e4675cdf4d1986ceee0094b40716"
          }
        },
        "088e08ccfb0b48d78ee43dc160558766": {
          "model_module": "@jupyter-widgets/controls",
          "model_name": "FloatProgressModel",
          "model_module_version": "1.5.0",
          "state": {
            "_view_name": "ProgressView",
            "style": "IPY_MODEL_1768e1a277d847419fbfb7ec182789f9",
            "_dom_classes": [],
            "description": "",
            "_model_name": "FloatProgressModel",
            "bar_style": "success",
            "max": 1648877,
            "_view_module": "@jupyter-widgets/controls",
            "_model_module_version": "1.5.0",
            "value": 1648877,
            "_view_count": null,
            "_view_module_version": "1.5.0",
            "orientation": "horizontal",
            "min": 0,
            "description_tooltip": null,
            "_model_module": "@jupyter-widgets/controls",
            "layout": "IPY_MODEL_9ac6dde14a114a28ab80b2680f366bd9"
          }
        },
        "8e1f203570ab410389372ec77e0913cf": {
          "model_module": "@jupyter-widgets/controls",
          "model_name": "HTMLModel",
          "model_module_version": "1.5.0",
          "state": {
            "_view_name": "HTMLView",
            "style": "IPY_MODEL_099ecc9b5c9541fd9462724c9835274f",
            "_dom_classes": [],
            "description": "",
            "_model_name": "HTMLModel",
            "placeholder": "​",
            "_view_module": "@jupyter-widgets/controls",
            "_model_module_version": "1.5.0",
            "value": " 1649664/? [00:00&lt;00:00, 3763102.49it/s]",
            "_view_count": null,
            "_view_module_version": "1.5.0",
            "description_tooltip": null,
            "_model_module": "@jupyter-widgets/controls",
            "layout": "IPY_MODEL_94f7558b56a641d7a200ea1db473f50a"
          }
        },
        "acdb63b218fe40bdaee90a092056b664": {
          "model_module": "@jupyter-widgets/controls",
          "model_name": "DescriptionStyleModel",
          "model_module_version": "1.5.0",
          "state": {
            "_view_name": "StyleView",
            "_model_name": "DescriptionStyleModel",
            "description_width": "",
            "_view_module": "@jupyter-widgets/base",
            "_model_module_version": "1.5.0",
            "_view_count": null,
            "_view_module_version": "1.2.0",
            "_model_module": "@jupyter-widgets/controls"
          }
        },
        "f758e4675cdf4d1986ceee0094b40716": {
          "model_module": "@jupyter-widgets/base",
          "model_name": "LayoutModel",
          "model_module_version": "1.2.0",
          "state": {
            "_view_name": "LayoutView",
            "grid_template_rows": null,
            "right": null,
            "justify_content": null,
            "_view_module": "@jupyter-widgets/base",
            "overflow": null,
            "_model_module_version": "1.2.0",
            "_view_count": null,
            "flex_flow": null,
            "width": null,
            "min_width": null,
            "border": null,
            "align_items": null,
            "bottom": null,
            "_model_module": "@jupyter-widgets/base",
            "top": null,
            "grid_column": null,
            "overflow_y": null,
            "overflow_x": null,
            "grid_auto_flow": null,
            "grid_area": null,
            "grid_template_columns": null,
            "flex": null,
            "_model_name": "LayoutModel",
            "justify_items": null,
            "grid_row": null,
            "max_height": null,
            "align_content": null,
            "visibility": null,
            "align_self": null,
            "height": null,
            "min_height": null,
            "padding": null,
            "grid_auto_rows": null,
            "grid_gap": null,
            "max_width": null,
            "order": null,
            "_view_module_version": "1.2.0",
            "grid_template_areas": null,
            "object_position": null,
            "object_fit": null,
            "grid_auto_columns": null,
            "margin": null,
            "display": null,
            "left": null
          }
        },
        "1768e1a277d847419fbfb7ec182789f9": {
          "model_module": "@jupyter-widgets/controls",
          "model_name": "ProgressStyleModel",
          "model_module_version": "1.5.0",
          "state": {
            "_view_name": "StyleView",
            "_model_name": "ProgressStyleModel",
            "description_width": "",
            "_view_module": "@jupyter-widgets/base",
            "_model_module_version": "1.5.0",
            "_view_count": null,
            "_view_module_version": "1.2.0",
            "bar_color": null,
            "_model_module": "@jupyter-widgets/controls"
          }
        },
        "9ac6dde14a114a28ab80b2680f366bd9": {
          "model_module": "@jupyter-widgets/base",
          "model_name": "LayoutModel",
          "model_module_version": "1.2.0",
          "state": {
            "_view_name": "LayoutView",
            "grid_template_rows": null,
            "right": null,
            "justify_content": null,
            "_view_module": "@jupyter-widgets/base",
            "overflow": null,
            "_model_module_version": "1.2.0",
            "_view_count": null,
            "flex_flow": null,
            "width": null,
            "min_width": null,
            "border": null,
            "align_items": null,
            "bottom": null,
            "_model_module": "@jupyter-widgets/base",
            "top": null,
            "grid_column": null,
            "overflow_y": null,
            "overflow_x": null,
            "grid_auto_flow": null,
            "grid_area": null,
            "grid_template_columns": null,
            "flex": null,
            "_model_name": "LayoutModel",
            "justify_items": null,
            "grid_row": null,
            "max_height": null,
            "align_content": null,
            "visibility": null,
            "align_self": null,
            "height": null,
            "min_height": null,
            "padding": null,
            "grid_auto_rows": null,
            "grid_gap": null,
            "max_width": null,
            "order": null,
            "_view_module_version": "1.2.0",
            "grid_template_areas": null,
            "object_position": null,
            "object_fit": null,
            "grid_auto_columns": null,
            "margin": null,
            "display": null,
            "left": null
          }
        },
        "099ecc9b5c9541fd9462724c9835274f": {
          "model_module": "@jupyter-widgets/controls",
          "model_name": "DescriptionStyleModel",
          "model_module_version": "1.5.0",
          "state": {
            "_view_name": "StyleView",
            "_model_name": "DescriptionStyleModel",
            "description_width": "",
            "_view_module": "@jupyter-widgets/base",
            "_model_module_version": "1.5.0",
            "_view_count": null,
            "_view_module_version": "1.2.0",
            "_model_module": "@jupyter-widgets/controls"
          }
        },
        "94f7558b56a641d7a200ea1db473f50a": {
          "model_module": "@jupyter-widgets/base",
          "model_name": "LayoutModel",
          "model_module_version": "1.2.0",
          "state": {
            "_view_name": "LayoutView",
            "grid_template_rows": null,
            "right": null,
            "justify_content": null,
            "_view_module": "@jupyter-widgets/base",
            "overflow": null,
            "_model_module_version": "1.2.0",
            "_view_count": null,
            "flex_flow": null,
            "width": null,
            "min_width": null,
            "border": null,
            "align_items": null,
            "bottom": null,
            "_model_module": "@jupyter-widgets/base",
            "top": null,
            "grid_column": null,
            "overflow_y": null,
            "overflow_x": null,
            "grid_auto_flow": null,
            "grid_area": null,
            "grid_template_columns": null,
            "flex": null,
            "_model_name": "LayoutModel",
            "justify_items": null,
            "grid_row": null,
            "max_height": null,
            "align_content": null,
            "visibility": null,
            "align_self": null,
            "height": null,
            "min_height": null,
            "padding": null,
            "grid_auto_rows": null,
            "grid_gap": null,
            "max_width": null,
            "order": null,
            "_view_module_version": "1.2.0",
            "grid_template_areas": null,
            "object_position": null,
            "object_fit": null,
            "grid_auto_columns": null,
            "margin": null,
            "display": null,
            "left": null
          }
        },
        "1a4c657117a2432d967d189fb83c8444": {
          "model_module": "@jupyter-widgets/controls",
          "model_name": "HBoxModel",
          "model_module_version": "1.5.0",
          "state": {
            "_view_name": "HBoxView",
            "_dom_classes": [],
            "_model_name": "HBoxModel",
            "_view_module": "@jupyter-widgets/controls",
            "_model_module_version": "1.5.0",
            "_view_count": null,
            "_view_module_version": "1.5.0",
            "box_style": "",
            "layout": "IPY_MODEL_7c22007f914449f6ab0b028831b90efc",
            "_model_module": "@jupyter-widgets/controls",
            "children": [
              "IPY_MODEL_879a3150423248fc9df01620a1cc59d1",
              "IPY_MODEL_ffce7ddb64a341afae96b4f131fd8498",
              "IPY_MODEL_99e773fd0b9f483ba10ae47043277cb0"
            ]
          }
        },
        "7c22007f914449f6ab0b028831b90efc": {
          "model_module": "@jupyter-widgets/base",
          "model_name": "LayoutModel",
          "model_module_version": "1.2.0",
          "state": {
            "_view_name": "LayoutView",
            "grid_template_rows": null,
            "right": null,
            "justify_content": null,
            "_view_module": "@jupyter-widgets/base",
            "overflow": null,
            "_model_module_version": "1.2.0",
            "_view_count": null,
            "flex_flow": null,
            "width": null,
            "min_width": null,
            "border": null,
            "align_items": null,
            "bottom": null,
            "_model_module": "@jupyter-widgets/base",
            "top": null,
            "grid_column": null,
            "overflow_y": null,
            "overflow_x": null,
            "grid_auto_flow": null,
            "grid_area": null,
            "grid_template_columns": null,
            "flex": null,
            "_model_name": "LayoutModel",
            "justify_items": null,
            "grid_row": null,
            "max_height": null,
            "align_content": null,
            "visibility": null,
            "align_self": null,
            "height": null,
            "min_height": null,
            "padding": null,
            "grid_auto_rows": null,
            "grid_gap": null,
            "max_width": null,
            "order": null,
            "_view_module_version": "1.2.0",
            "grid_template_areas": null,
            "object_position": null,
            "object_fit": null,
            "grid_auto_columns": null,
            "margin": null,
            "display": null,
            "left": null
          }
        },
        "879a3150423248fc9df01620a1cc59d1": {
          "model_module": "@jupyter-widgets/controls",
          "model_name": "HTMLModel",
          "model_module_version": "1.5.0",
          "state": {
            "_view_name": "HTMLView",
            "style": "IPY_MODEL_5a5e962a90dd4aeca3a77eeff4a16fc7",
            "_dom_classes": [],
            "description": "",
            "_model_name": "HTMLModel",
            "placeholder": "​",
            "_view_module": "@jupyter-widgets/controls",
            "_model_module_version": "1.5.0",
            "value": "",
            "_view_count": null,
            "_view_module_version": "1.5.0",
            "description_tooltip": null,
            "_model_module": "@jupyter-widgets/controls",
            "layout": "IPY_MODEL_a0287f1ac9e24554ab3a664bc4d36498"
          }
        },
        "ffce7ddb64a341afae96b4f131fd8498": {
          "model_module": "@jupyter-widgets/controls",
          "model_name": "FloatProgressModel",
          "model_module_version": "1.5.0",
          "state": {
            "_view_name": "ProgressView",
            "style": "IPY_MODEL_6f24b2c1dc99421da419638c8b7e241e",
            "_dom_classes": [],
            "description": "",
            "_model_name": "FloatProgressModel",
            "bar_style": "success",
            "max": 4542,
            "_view_module": "@jupyter-widgets/controls",
            "_model_module_version": "1.5.0",
            "value": 4542,
            "_view_count": null,
            "_view_module_version": "1.5.0",
            "orientation": "horizontal",
            "min": 0,
            "description_tooltip": null,
            "_model_module": "@jupyter-widgets/controls",
            "layout": "IPY_MODEL_4930d3de6cd34a0987f196e769a284c4"
          }
        },
        "99e773fd0b9f483ba10ae47043277cb0": {
          "model_module": "@jupyter-widgets/controls",
          "model_name": "HTMLModel",
          "model_module_version": "1.5.0",
          "state": {
            "_view_name": "HTMLView",
            "style": "IPY_MODEL_698d2c129aeb4585b51a90cf81b133d4",
            "_dom_classes": [],
            "description": "",
            "_model_name": "HTMLModel",
            "placeholder": "​",
            "_view_module": "@jupyter-widgets/controls",
            "_model_module_version": "1.5.0",
            "value": " 5120/? [00:00&lt;00:00, 102008.53it/s]",
            "_view_count": null,
            "_view_module_version": "1.5.0",
            "description_tooltip": null,
            "_model_module": "@jupyter-widgets/controls",
            "layout": "IPY_MODEL_92963695715c4fd68015d457c194d919"
          }
        },
        "5a5e962a90dd4aeca3a77eeff4a16fc7": {
          "model_module": "@jupyter-widgets/controls",
          "model_name": "DescriptionStyleModel",
          "model_module_version": "1.5.0",
          "state": {
            "_view_name": "StyleView",
            "_model_name": "DescriptionStyleModel",
            "description_width": "",
            "_view_module": "@jupyter-widgets/base",
            "_model_module_version": "1.5.0",
            "_view_count": null,
            "_view_module_version": "1.2.0",
            "_model_module": "@jupyter-widgets/controls"
          }
        },
        "a0287f1ac9e24554ab3a664bc4d36498": {
          "model_module": "@jupyter-widgets/base",
          "model_name": "LayoutModel",
          "model_module_version": "1.2.0",
          "state": {
            "_view_name": "LayoutView",
            "grid_template_rows": null,
            "right": null,
            "justify_content": null,
            "_view_module": "@jupyter-widgets/base",
            "overflow": null,
            "_model_module_version": "1.2.0",
            "_view_count": null,
            "flex_flow": null,
            "width": null,
            "min_width": null,
            "border": null,
            "align_items": null,
            "bottom": null,
            "_model_module": "@jupyter-widgets/base",
            "top": null,
            "grid_column": null,
            "overflow_y": null,
            "overflow_x": null,
            "grid_auto_flow": null,
            "grid_area": null,
            "grid_template_columns": null,
            "flex": null,
            "_model_name": "LayoutModel",
            "justify_items": null,
            "grid_row": null,
            "max_height": null,
            "align_content": null,
            "visibility": null,
            "align_self": null,
            "height": null,
            "min_height": null,
            "padding": null,
            "grid_auto_rows": null,
            "grid_gap": null,
            "max_width": null,
            "order": null,
            "_view_module_version": "1.2.0",
            "grid_template_areas": null,
            "object_position": null,
            "object_fit": null,
            "grid_auto_columns": null,
            "margin": null,
            "display": null,
            "left": null
          }
        },
        "6f24b2c1dc99421da419638c8b7e241e": {
          "model_module": "@jupyter-widgets/controls",
          "model_name": "ProgressStyleModel",
          "model_module_version": "1.5.0",
          "state": {
            "_view_name": "StyleView",
            "_model_name": "ProgressStyleModel",
            "description_width": "",
            "_view_module": "@jupyter-widgets/base",
            "_model_module_version": "1.5.0",
            "_view_count": null,
            "_view_module_version": "1.2.0",
            "bar_color": null,
            "_model_module": "@jupyter-widgets/controls"
          }
        },
        "4930d3de6cd34a0987f196e769a284c4": {
          "model_module": "@jupyter-widgets/base",
          "model_name": "LayoutModel",
          "model_module_version": "1.2.0",
          "state": {
            "_view_name": "LayoutView",
            "grid_template_rows": null,
            "right": null,
            "justify_content": null,
            "_view_module": "@jupyter-widgets/base",
            "overflow": null,
            "_model_module_version": "1.2.0",
            "_view_count": null,
            "flex_flow": null,
            "width": null,
            "min_width": null,
            "border": null,
            "align_items": null,
            "bottom": null,
            "_model_module": "@jupyter-widgets/base",
            "top": null,
            "grid_column": null,
            "overflow_y": null,
            "overflow_x": null,
            "grid_auto_flow": null,
            "grid_area": null,
            "grid_template_columns": null,
            "flex": null,
            "_model_name": "LayoutModel",
            "justify_items": null,
            "grid_row": null,
            "max_height": null,
            "align_content": null,
            "visibility": null,
            "align_self": null,
            "height": null,
            "min_height": null,
            "padding": null,
            "grid_auto_rows": null,
            "grid_gap": null,
            "max_width": null,
            "order": null,
            "_view_module_version": "1.2.0",
            "grid_template_areas": null,
            "object_position": null,
            "object_fit": null,
            "grid_auto_columns": null,
            "margin": null,
            "display": null,
            "left": null
          }
        },
        "698d2c129aeb4585b51a90cf81b133d4": {
          "model_module": "@jupyter-widgets/controls",
          "model_name": "DescriptionStyleModel",
          "model_module_version": "1.5.0",
          "state": {
            "_view_name": "StyleView",
            "_model_name": "DescriptionStyleModel",
            "description_width": "",
            "_view_module": "@jupyter-widgets/base",
            "_model_module_version": "1.5.0",
            "_view_count": null,
            "_view_module_version": "1.2.0",
            "_model_module": "@jupyter-widgets/controls"
          }
        },
        "92963695715c4fd68015d457c194d919": {
          "model_module": "@jupyter-widgets/base",
          "model_name": "LayoutModel",
          "model_module_version": "1.2.0",
          "state": {
            "_view_name": "LayoutView",
            "grid_template_rows": null,
            "right": null,
            "justify_content": null,
            "_view_module": "@jupyter-widgets/base",
            "overflow": null,
            "_model_module_version": "1.2.0",
            "_view_count": null,
            "flex_flow": null,
            "width": null,
            "min_width": null,
            "border": null,
            "align_items": null,
            "bottom": null,
            "_model_module": "@jupyter-widgets/base",
            "top": null,
            "grid_column": null,
            "overflow_y": null,
            "overflow_x": null,
            "grid_auto_flow": null,
            "grid_area": null,
            "grid_template_columns": null,
            "flex": null,
            "_model_name": "LayoutModel",
            "justify_items": null,
            "grid_row": null,
            "max_height": null,
            "align_content": null,
            "visibility": null,
            "align_self": null,
            "height": null,
            "min_height": null,
            "padding": null,
            "grid_auto_rows": null,
            "grid_gap": null,
            "max_width": null,
            "order": null,
            "_view_module_version": "1.2.0",
            "grid_template_areas": null,
            "object_position": null,
            "object_fit": null,
            "grid_auto_columns": null,
            "margin": null,
            "display": null,
            "left": null
          }
        }
      }
    }
  },
  "cells": [
    {
      "cell_type": "markdown",
      "metadata": {
        "id": "view-in-github",
        "colab_type": "text"
      },
      "source": [
        "<a href=\"https://colab.research.google.com/github/antoinebachand/Deep-Learnig-/blob/main/Lab_Antoine.ipynb\" target=\"_parent\"><img src=\"https://colab.research.google.com/assets/colab-badge.svg\" alt=\"Open In Colab\"/></a>"
      ]
    },
    {
      "cell_type": "markdown",
      "metadata": {
        "id": "WaUOA7dd7vEr"
      },
      "source": [
        "# **Lab-Exam**"
      ]
    },
    {
      "cell_type": "code",
      "metadata": {
        "id": "cGfO8C2R8irj",
        "colab": {
          "base_uri": "https://localhost:8080/"
        },
        "outputId": "2b518b26-624b-44f1-db43-cbee7a4ae8a2"
      },
      "source": [
        "# Import necessary libraries.\n",
        "import torch\n",
        "import torch.nn as nn\n",
        "import torchvision\n",
        "from torchvision import datasets, transforms\n",
        "\n",
        "torch.manual_seed(42)  # Do not change.\n"
      ],
      "execution_count": 1,
      "outputs": [
        {
          "output_type": "execute_result",
          "data": {
            "text/plain": [
              "<torch._C.Generator at 0x7f5fb52b32f0>"
            ]
          },
          "metadata": {},
          "execution_count": 1
        }
      ]
    },
    {
      "cell_type": "code",
      "metadata": {
        "id": "rTEd-lr4A3KC"
      },
      "source": [
        "# NOTE: Do not change anyting in this code cell.\n",
        "# Utility functions for training and evaluating your networks.\n",
        "\n",
        "def train(model, dl, num_epocs, opt, criterion, input_cv):\n",
        "  for epochs in range(num_epocs):\n",
        "    for data in train_dl:\n",
        "      X, y = data\n",
        "      output = model(input_cv(X))\n",
        "      loss = criterion(output, y)\n",
        "      optimizer.zero_grad() \n",
        "      loss.backward() \n",
        "      optimizer.step() \n",
        "    print('Loss:', loss.data)\n",
        "\n",
        "\n",
        "def evaluate(model, dl, input_cv):\n",
        "  total, correct = 0, 0\n",
        "  with torch.no_grad():\n",
        "    for data in dl:\n",
        "      X, y = data\n",
        "      output = model(input_cv(X))\n",
        "      for idx, val in enumerate(output):\n",
        "        if torch.argmax(val) == y[idx]:\n",
        "          correct += 1\n",
        "        total += 1\n",
        "  return round(correct/total, 3)\n"
      ],
      "execution_count": 18,
      "outputs": []
    },
    {
      "cell_type": "markdown",
      "metadata": {
        "id": "dkenrYeSdKKp"
      },
      "source": [
        "**Question 1**: In the code cell below, write data loaders for the train- and test-datasets, using the specified batch_size. Make sure to shuffle the training data."
      ]
    },
    {
      "cell_type": "code",
      "metadata": {
        "id": "Up5J1Ehah9F-",
        "colab": {
          "base_uri": "https://localhost:8080/",
          "height": 422,
          "referenced_widgets": [
            "8e4e271d2b5f46d49343f2795211fb9c",
            "334a9c3fd22d40db94523276699913b7",
            "0ed4dcac0e634e7184fd81c1bea92df7",
            "5adb812a6c984782ad89bf7ffe68846a",
            "acf44e6ad7a24f0e8ce97e9d8d094492",
            "e4daa136c3b44dfea613513fec686a18",
            "a9ce3f539781413b8eff2f0da08649d0",
            "2453b294bfb2496581ea55c4e36b3105",
            "78ef0ea9f85c4e6e9b1c2956b4ce737e",
            "77674d47186c4b26a4a34972dfce1d8c",
            "e274eacb81af4de58d299da51223ec44",
            "5cab794d80924ea48888717e079da63a",
            "3fa5423dd2af46c9895e1cabba7fd9f9",
            "7d3119af4af24dd9916d187d0bc559c3",
            "3dc4e58f89db498981b90199f5b3a415",
            "eb0e2abb33df4c7f8e3584039236f428",
            "64b31e0b6574495c9e43e43f07d455d7",
            "43340bfca8784b23ba3799aca4e54b5d",
            "964b7961890e40e2a5039f45c12968df",
            "68856a5ae9c047d5adf177351d2affba",
            "78297ca81d8a4b5faae06520745e65aa",
            "89850830df754c10948696b4e70a5b27",
            "6c107be16c8c47a88331f3ee1248971a",
            "ecda35201e6b475a8db26df192ec5099",
            "2abbfb3dbe7049019e52f1d2dfac8f42",
            "088e08ccfb0b48d78ee43dc160558766",
            "8e1f203570ab410389372ec77e0913cf",
            "acdb63b218fe40bdaee90a092056b664",
            "f758e4675cdf4d1986ceee0094b40716",
            "1768e1a277d847419fbfb7ec182789f9",
            "9ac6dde14a114a28ab80b2680f366bd9",
            "099ecc9b5c9541fd9462724c9835274f",
            "94f7558b56a641d7a200ea1db473f50a",
            "1a4c657117a2432d967d189fb83c8444",
            "7c22007f914449f6ab0b028831b90efc",
            "879a3150423248fc9df01620a1cc59d1",
            "ffce7ddb64a341afae96b4f131fd8498",
            "99e773fd0b9f483ba10ae47043277cb0",
            "5a5e962a90dd4aeca3a77eeff4a16fc7",
            "a0287f1ac9e24554ab3a664bc4d36498",
            "6f24b2c1dc99421da419638c8b7e241e",
            "4930d3de6cd34a0987f196e769a284c4",
            "698d2c129aeb4585b51a90cf81b133d4",
            "92963695715c4fd68015d457c194d919"
          ]
        },
        "outputId": "0dd48f0e-9d8a-4006-b66a-0f1c68803269"
      },
      "source": [
        "# QUESTION 1\n",
        "\n",
        "MNIST_DIM = 28 # The x, y demensions of the MNIST images. \n",
        "MNIST_NUM_CLASSES = 10 # Number of classes.\n",
        "\n",
        "# Download the MNIST dataset.\n",
        "train_ds = datasets.MNIST('',train=True, download=True,\n",
        "                          transform=transforms.Compose([transforms.ToTensor()]))\n",
        "test_ds = datasets.MNIST('',train=False, download=True,\n",
        "                          transform=transforms.Compose([transforms.ToTensor()]))\n",
        "\n",
        "# Create dataloaders from the train- and test-sets with a given batch size, \n",
        "# called test_dl and test_dl, respectively.\n",
        "\n",
        "BATCH_SIZE = 200\n",
        "\n",
        "train_dl = torch.utils.data.DataLoader(train_ds, batch_size=200, shuffle=True)\n",
        "test_dl = torch.utils.data.DataLoader(test_ds, batch_size=200, shuffle=False)"
      ],
      "execution_count": 3,
      "outputs": [
        {
          "output_type": "stream",
          "name": "stdout",
          "text": [
            "Downloading http://yann.lecun.com/exdb/mnist/train-images-idx3-ubyte.gz\n",
            "Downloading http://yann.lecun.com/exdb/mnist/train-images-idx3-ubyte.gz to MNIST/raw/train-images-idx3-ubyte.gz\n"
          ]
        },
        {
          "output_type": "display_data",
          "data": {
            "application/vnd.jupyter.widget-view+json": {
              "model_id": "8e4e271d2b5f46d49343f2795211fb9c",
              "version_minor": 0,
              "version_major": 2
            },
            "text/plain": [
              "  0%|          | 0/9912422 [00:00<?, ?it/s]"
            ]
          },
          "metadata": {}
        },
        {
          "output_type": "stream",
          "name": "stdout",
          "text": [
            "Extracting MNIST/raw/train-images-idx3-ubyte.gz to MNIST/raw\n",
            "\n",
            "Downloading http://yann.lecun.com/exdb/mnist/train-labels-idx1-ubyte.gz\n",
            "Downloading http://yann.lecun.com/exdb/mnist/train-labels-idx1-ubyte.gz to MNIST/raw/train-labels-idx1-ubyte.gz\n"
          ]
        },
        {
          "output_type": "display_data",
          "data": {
            "application/vnd.jupyter.widget-view+json": {
              "model_id": "5cab794d80924ea48888717e079da63a",
              "version_minor": 0,
              "version_major": 2
            },
            "text/plain": [
              "  0%|          | 0/28881 [00:00<?, ?it/s]"
            ]
          },
          "metadata": {}
        },
        {
          "output_type": "stream",
          "name": "stdout",
          "text": [
            "Extracting MNIST/raw/train-labels-idx1-ubyte.gz to MNIST/raw\n",
            "\n",
            "Downloading http://yann.lecun.com/exdb/mnist/t10k-images-idx3-ubyte.gz\n",
            "Downloading http://yann.lecun.com/exdb/mnist/t10k-images-idx3-ubyte.gz to MNIST/raw/t10k-images-idx3-ubyte.gz\n"
          ]
        },
        {
          "output_type": "display_data",
          "data": {
            "application/vnd.jupyter.widget-view+json": {
              "model_id": "6c107be16c8c47a88331f3ee1248971a",
              "version_minor": 0,
              "version_major": 2
            },
            "text/plain": [
              "  0%|          | 0/1648877 [00:00<?, ?it/s]"
            ]
          },
          "metadata": {}
        },
        {
          "output_type": "stream",
          "name": "stdout",
          "text": [
            "Extracting MNIST/raw/t10k-images-idx3-ubyte.gz to MNIST/raw\n",
            "\n",
            "Downloading http://yann.lecun.com/exdb/mnist/t10k-labels-idx1-ubyte.gz\n",
            "Downloading http://yann.lecun.com/exdb/mnist/t10k-labels-idx1-ubyte.gz to MNIST/raw/t10k-labels-idx1-ubyte.gz\n"
          ]
        },
        {
          "output_type": "display_data",
          "data": {
            "application/vnd.jupyter.widget-view+json": {
              "model_id": "1a4c657117a2432d967d189fb83c8444",
              "version_minor": 0,
              "version_major": 2
            },
            "text/plain": [
              "  0%|          | 0/4542 [00:00<?, ?it/s]"
            ]
          },
          "metadata": {}
        },
        {
          "output_type": "stream",
          "name": "stdout",
          "text": [
            "Extracting MNIST/raw/t10k-labels-idx1-ubyte.gz to MNIST/raw\n",
            "\n"
          ]
        }
      ]
    },
    {
      "cell_type": "markdown",
      "metadata": {
        "id": "qRxCI_aHdoSO"
      },
      "source": [
        "**Question 2**: In the code cell below,  create a fully connected neural network, called Q2Net, that takes the digit images as input and classifies them as one of the digits from 0-9. The specification of your network are as follows:\n",
        "* The network has two hidden layers, the former of width *256* and the latter of with *128*. They should use ReLU actication.\n",
        "* There should be a *batch normalization* layer following the first hidden layer.\n",
        "* The output layer is fully-connected of with *64* using the most appropriate activation for the task. \n",
        "* You should give the input and output sizes (for the problem) as parameters to the net's constructor.\n",
        "\n",
        "\n"
      ]
    },
    {
      "cell_type": "code",
      "metadata": {
        "id": "bgpaxXIE2ZXr",
        "colab": {
          "base_uri": "https://localhost:8080/"
        },
        "outputId": "3d53ea1b-fa48-49a7-db9b-0c4b9fa7e138"
      },
      "source": [
        "\n",
        "\n",
        "class Q2Net(nn.Module):\n",
        "  \n",
        "  def __init__(self, input_size, output_size): \n",
        "    super().__init__()\n",
        "    self.fc1 = nn.Linear(28*28, 64)  # I know the dimension of the images is 16 x 16.\n",
        "    self.av1 = nn.ReLU()\n",
        "    self.fc2 = nn.Linear(64, 64)\n",
        "    self.fc2_bn = nn.BatchNorm1d(64)  \n",
        "    self.av2 = nn.ReLU()\n",
        "    self.fc3 = nn.Linear(64, 64)\n",
        "    self.av3 = nn.ReLU()\n",
        "    self.fcout = nn.Linear(64, 10)  # I know there is 10 possible output\n",
        "    return\n",
        "    \n",
        "\n",
        "\n",
        "  def forward(self, x):\n",
        "    x = self.fc1(x)\n",
        "    x = self.av1(x)\n",
        "    x = self.fc2(x)\n",
        "    x = self.fc2_bn(x)\n",
        "    x = self.av2(x)\n",
        "    x = self.fc3(x)\n",
        "    x = self.av3(x)\n",
        "    x = self.fcout(x)\n",
        "    return nn.functional.log_softmax(x, dim=1)\n",
        "    \n",
        "\n",
        "net = Q2Net(MNIST_DIM*MNIST_DIM, MNIST_NUM_CLASSES)\n",
        "print(net)\n"
      ],
      "execution_count": 19,
      "outputs": [
        {
          "output_type": "stream",
          "name": "stdout",
          "text": [
            "Q2Net(\n",
            "  (fc1): Linear(in_features=784, out_features=64, bias=True)\n",
            "  (av1): ReLU()\n",
            "  (fc2): Linear(in_features=64, out_features=64, bias=True)\n",
            "  (fc2_bn): BatchNorm1d(64, eps=1e-05, momentum=0.1, affine=True, track_running_stats=True)\n",
            "  (av2): ReLU()\n",
            "  (fc3): Linear(in_features=64, out_features=64, bias=True)\n",
            "  (av3): ReLU()\n",
            "  (fcout): Linear(in_features=64, out_features=10, bias=True)\n",
            ")\n"
          ]
        }
      ]
    },
    {
      "cell_type": "markdown",
      "metadata": {
        "id": "fumfO_1AjQbY"
      },
      "source": [
        "**Question 3**: Use the provided *training(...) function to train your network using the\n",
        "the specified *learning rate* and number of *epochs*.  Use *RMSprop* as an optimizer and the most suitable *loss function* for the task (and your network)."
      ]
    },
    {
      "cell_type": "code",
      "metadata": {
        "id": "UB0TM7il3xY5",
        "colab": {
          "base_uri": "https://localhost:8080/"
        },
        "outputId": "8ed5f758-d467-48d3-d53a-55ad9662da39"
      },
      "source": [
        "# Train the neural network using the provided parameters and using\n",
        "# RMSprop as an optimizer. \n",
        "\n",
        "LEARNING_RATE = 0.001\n",
        "NUM_EPOCHS = 5\n",
        "optimizer = torch.optim.RMSprop(net.parameters(), lr=0.001)\n",
        "loss_func = nn.CrossEntropyLoss()\n",
        "\n",
        "# This function you use to covert the input record from the dataset\n",
        "# into the format expected by your network \n",
        "def input_converter(X):\n",
        "  return X.view(-1, MNIST_DIM*MNIST_DIM)\n",
        "\n",
        "train(net, train_dl, NUM_EPOCHS, optimizer, loss_func, input_converter)\n"
      ],
      "execution_count": 20,
      "outputs": [
        {
          "output_type": "stream",
          "name": "stdout",
          "text": [
            "Loss: tensor(0.1199)\n",
            "Loss: tensor(0.1170)\n",
            "Loss: tensor(0.0936)\n",
            "Loss: tensor(0.0482)\n",
            "Loss: tensor(0.0488)\n"
          ]
        }
      ]
    },
    {
      "cell_type": "code",
      "metadata": {
        "colab": {
          "base_uri": "https://localhost:8080/"
        },
        "id": "dnwdP49VY2X_",
        "outputId": "eff0204d-ceda-46e9-9e5b-ab10063a4118"
      },
      "source": [
        "# Report the accuracy, no need to change, but your should run the cell.\n",
        "print('Accuracy train:', evaluate(net, train_dl, input_converter))\n",
        "print('Accuracy test:', evaluate(net, test_dl, input_converter))"
      ],
      "execution_count": 21,
      "outputs": [
        {
          "output_type": "stream",
          "name": "stdout",
          "text": [
            "Accuracy train: 0.988\n",
            "Accuracy test: 0.976\n"
          ]
        }
      ]
    },
    {
      "cell_type": "markdown",
      "metadata": {
        "id": "gVetGdklFTnQ"
      },
      "source": [
        "**Question 4**:  In the code cell below, create a CNN, called Q4Net, that takes the digit images as input and classifies them as one of the digits from 0-9. The specification of your network are as follows:\n",
        "* The network should have, in addition to the input and output layers, two convolutional layers, each consisting of: a convolutional, rectified liner unit, and a pooling layer, in that order.\n",
        "* The former convolutional layer has 8 filters (channels) and uses average-pooling, whereas the latter has 4 filters and uses max pooling.\n",
        "* Both the convolutional layers use a kernel of size 3 x 3, a stride of 1, and no padding. \n",
        "* You can choose the type (average or max) and kernel and stride sizes of the pooling-layers, as long as the input you finally feed into the output layer is of the proper width as specified (see below).\n",
        "* Following the convolutional layers there is a liner output and an activation layer (matching the task and data, as before). The with of the (input into the) output layer should be 100. \n",
        "\n",
        "As in question 2, train and evaluate your network using the train and evaluate functions (unmodified), and report on the accurarcy on both the training and test set. "
      ]
    },
    {
      "cell_type": "code",
      "metadata": {
        "id": "vSk3B0UgFT1c",
        "colab": {
          "base_uri": "https://localhost:8080/"
        },
        "outputId": "fa954fe3-85af-43dd-c4d0-89b5081e475c"
      },
      "source": [
        "from torchsummary import summary\n",
        "# Create a CNN network model\n",
        "\n",
        "class Q4Net(nn.Module):\n",
        "  \n",
        "  def __init__(self, input_size, output_size): \n",
        "    super().__init__()\n",
        "    \n",
        "    self.layer_1 = nn.Sequential(\n",
        "        # 28 x 28 x 1\n",
        "        nn.Conv2d(1, 8, kernel_size=(3,3), stride=1, padding=0),  # 28 - 3 + 1 = 26;  26 x 26 \n",
        "        nn.ReLU(),\n",
        "        nn.MaxPool2d(kernel_size=2, stride=2)  # 13 x 13\n",
        "    )\n",
        "\n",
        "    self.layer_2 = nn.Sequential(\n",
        "        # 1 x 12 x 12\n",
        "        nn.Conv2d(8, 4, kernel_size=3, stride=1, padding=0),  # 13-3+1 = 11 ; 11 X 11\n",
        "        nn.ReLU(),\n",
        "        nn.MaxPool2d(kernel_size=2, stride=2) #5 X 5\n",
        "    )    \n",
        "    self.layer_3 = nn.Flatten()\n",
        "    self.layer_4 = nn.Linear(4*5*5, 8)   # My output is indeed 100\n",
        "    return \n",
        "\n",
        "  def forward(self, x):\n",
        "    x = self.layer_1(x)\n",
        "    x = self.layer_2(x)\n",
        "    x = self.layer_3(x) # Flatten\n",
        "    x = self.layer_4(x)\n",
        "    return nn.functional.log_softmax(x, dim=1)\n",
        "\n",
        "\n",
        "net = Q4Net(MNIST_DIM*MNIST_DIM, MNIST_NUM_CLASSES)\n",
        "print(net)\n",
        "summary(net,(1,28,28))\n",
        "\n",
        "# Train and evaluate your network.\n"
      ],
      "execution_count": 60,
      "outputs": [
        {
          "output_type": "stream",
          "name": "stdout",
          "text": [
            "Q4Net(\n",
            "  (layer_1): Sequential(\n",
            "    (0): Conv2d(1, 8, kernel_size=(3, 3), stride=(1, 1))\n",
            "    (1): ReLU()\n",
            "    (2): MaxPool2d(kernel_size=2, stride=2, padding=0, dilation=1, ceil_mode=False)\n",
            "  )\n",
            "  (layer_2): Sequential(\n",
            "    (0): Conv2d(8, 4, kernel_size=(3, 3), stride=(1, 1))\n",
            "    (1): ReLU()\n",
            "    (2): MaxPool2d(kernel_size=2, stride=2, padding=0, dilation=1, ceil_mode=False)\n",
            "  )\n",
            "  (layer_3): Flatten(start_dim=1, end_dim=-1)\n",
            "  (layer_4): Linear(in_features=100, out_features=8, bias=True)\n",
            ")\n",
            "----------------------------------------------------------------\n",
            "        Layer (type)               Output Shape         Param #\n",
            "================================================================\n",
            "            Conv2d-1            [-1, 8, 26, 26]              80\n",
            "              ReLU-2            [-1, 8, 26, 26]               0\n",
            "         MaxPool2d-3            [-1, 8, 13, 13]               0\n",
            "            Conv2d-4            [-1, 4, 11, 11]             292\n",
            "              ReLU-5            [-1, 4, 11, 11]               0\n",
            "         MaxPool2d-6              [-1, 4, 5, 5]               0\n",
            "           Flatten-7                  [-1, 100]               0\n",
            "            Linear-8                    [-1, 8]             808\n",
            "================================================================\n",
            "Total params: 1,180\n",
            "Trainable params: 1,180\n",
            "Non-trainable params: 0\n",
            "----------------------------------------------------------------\n",
            "Input size (MB): 0.00\n",
            "Forward/backward pass size (MB): 0.10\n",
            "Params size (MB): 0.00\n",
            "Estimated Total Size (MB): 0.11\n",
            "----------------------------------------------------------------\n"
          ]
        }
      ]
    },
    {
      "cell_type": "code",
      "metadata": {
        "colab": {
          "base_uri": "https://localhost:8080/"
        },
        "id": "pa_hJSeptsxs",
        "outputId": "0927d64e-2196-4b00-8573-6bd50502567d"
      },
      "source": [
        "# Train my neural network.\n",
        "optimizer = torch.optim.Adam(net.parameters(), lr=0.001)\n",
        "for epocs in range(5):\n",
        "  for data in train_dl:\n",
        "    X, y = data\n",
        "    optimizer.zero_grad() # clear gradient information.\n",
        "    output = net(X)\n",
        "    loss = nn.functional.nll_loss(output, y)\n",
        "    loss.backward() # do pack-propagation step\n",
        "    optimizer.step() # tell optimizer that you finished batch/iteration.\n",
        "  print(loss.data)"
      ],
      "execution_count": 71,
      "outputs": [
        {
          "output_type": "stream",
          "name": "stdout",
          "text": [
            "tensor(0.6454)\n",
            "tensor(0.6007)\n",
            "tensor(0.5942)\n",
            "tensor(0.5352)\n",
            "tensor(0.6315)\n"
          ]
        }
      ]
    },
    {
      "cell_type": "code",
      "metadata": {
        "colab": {
          "base_uri": "https://localhost:8080/"
        },
        "id": "ftV9hi8VuvZ0",
        "outputId": "83e4aed6-6ceb-429e-ab51-198bf5d2bf6b"
      },
      "source": [
        "# Evaluate the trained network.\n",
        "total = 0\n",
        "correct = 0\n",
        "with torch.no_grad():   # No need for keepnig track of necessary changes to the gradient.\n",
        "  for data in test_dl:\n",
        "    X, y = data\n",
        "    output = net(X)\n",
        "    for idx, val in enumerate(output):\n",
        "      if torch.argmax(val) == y[idx]:\n",
        "        correct += 1\n",
        "      total += 1\n",
        "  print('Accuracy:', round(correct/total, 3))"
      ],
      "execution_count": 73,
      "outputs": [
        {
          "output_type": "stream",
          "name": "stdout",
          "text": [
            "Accuracy: 0.77\n"
          ]
        }
      ]
    },
    {
      "cell_type": "markdown",
      "metadata": {
        "id": "6J8LHznF29ZF"
      },
      "source": [
        "**Question 5**:  In the code-cell below, using the provided data, write code for predicting from the dependent variables (first two columns) whether the dependent variable (last column) is 0 or 1. Your code should do the following tasks:\n",
        "\n",
        "*   Convert the data to a tensor, and split it up into a training and test set(80% or records in the training set).\n",
        "*   Using data loader, using mini-batch size *50*, feed the data it into a small fully-connected neural network with exactly two hidden layers. You can otherwise choose the specifications of your network, as long as the input and output layers are proper.\n",
        "* Train the network using Adam as an optimizer.\n",
        "* Report on the *accuracy* on both the test and the training set. Note, you will most likely need to write your own code for computing the accuracy (note, that there is no need for you to spend must time improving upon the accuracy, as long as you are somewhat confident you are doing things right).\n",
        "\n"
      ]
    },
    {
      "cell_type": "code",
      "metadata": {
        "id": "bWsh3dDf_Vis",
        "colab": {
          "base_uri": "https://localhost:8080/"
        },
        "outputId": "4679416e-613c-4ea2-bfad-98e8ca489c56"
      },
      "source": [
        "# Question 5: reading in data. No need to change, but you must run the cell.\n",
        "def read_data(name, records):\n",
        "    with open(name) as f:\n",
        "        for line in f:\n",
        "            fields = line.split(',')\n",
        "            value = 1 if fields[2].strip() == 'True' else 0\n",
        "            record = (float(fields[0].strip()),\n",
        "                      float(fields[1].strip()),\n",
        "                      int(value))\n",
        "            records.append(record)\n",
        "\n",
        "# Data will be a Python list of tuples.\n",
        "data = []\n",
        "read_data('data.txt', data)\n",
        "print(len(data))\n",
        "print(data[0])\n",
        "print(data[len(data)-1])\n"
      ],
      "execution_count": 26,
      "outputs": [
        {
          "output_type": "stream",
          "name": "stdout",
          "text": [
            "499\n",
            "(0.07, -0.04, 0)\n",
            "(-0.69, 0.69, 1)\n"
          ]
        }
      ]
    },
    {
      "cell_type": "code",
      "metadata": {
        "id": "J4qAz6Jp6H50",
        "colab": {
          "base_uri": "https://localhost:8080/"
        },
        "outputId": "ffe5f267-5f71-4b51-d21c-1e85a5c5e042"
      },
      "source": [
        "# Question 5: your code. \n",
        "# First we create the Dataset\n",
        "import pandas as pd\n",
        "\n",
        "df = pd.DataFrame(data, columns=['number_1', 'number_2', 'Binary'])\n",
        "print(df)"
      ],
      "execution_count": 29,
      "outputs": [
        {
          "output_type": "stream",
          "name": "stdout",
          "text": [
            "     number_1  number_2  Binary\n",
            "0        0.07     -0.04       0\n",
            "1        0.28      0.27       1\n",
            "2        0.02      0.18       0\n",
            "3        0.24     -0.22       1\n",
            "4       -0.19     -0.42       1\n",
            "..        ...       ...     ...\n",
            "494     -0.08      0.57       1\n",
            "495     -0.20      0.36       1\n",
            "496     -0.28      0.62       1\n",
            "497     -0.59      0.78       1\n",
            "498     -0.69      0.69       1\n",
            "\n",
            "[499 rows x 3 columns]\n"
          ]
        }
      ]
    },
    {
      "cell_type": "code",
      "metadata": {
        "id": "RoX0KIj_ncM6"
      },
      "source": [
        "# Split the data into test and training sets.\n",
        "# Now we split the DATA\n",
        "from sklearn.model_selection import train_test_split\n",
        "columns = df.columns.values.tolist()\n",
        "independent = columns[:-1]\n",
        "dependent = columns[-1]\n",
        "train_X, test_X, train_y, test_y = train_test_split(df[independent], df[dependent], test_size=0.20)"
      ],
      "execution_count": 30,
      "outputs": []
    },
    {
      "cell_type": "code",
      "metadata": {
        "id": "RC29X7xOkaNj"
      },
      "source": [
        "import torch\n",
        "BATCH_SIZE = 50\n",
        "X = torch.tensor(train_X.values, dtype=torch.float)\n",
        "y = torch.tensor(train_y.values, dtype=torch.int64)\n",
        "train_ds = torch.utils.data.TensorDataset(X, y)\n",
        "X = torch.tensor(test_X.values, dtype=torch.float)\n",
        "y = torch.tensor(test_y.values, dtype=torch.int64)\n",
        "test_ds = torch.utils.data.TensorDataset(X, y)\n",
        "\n",
        "train_dl = torch.utils.data.DataLoader(train_ds, batch_size=BATCH_SIZE, shuffle=True)\n",
        "test_dl = torch.utils.data.DataLoader(test_ds, batch_size=BATCH_SIZE, shuffle=False)"
      ],
      "execution_count": 52,
      "outputs": []
    },
    {
      "cell_type": "code",
      "metadata": {
        "colab": {
          "base_uri": "https://localhost:8080/"
        },
        "id": "pttC5n7rkgXu",
        "outputId": "f302bb81-d28e-4307-a198-fa461071cc7d"
      },
      "source": [
        "# Create Neural Network Model (ANN)\n",
        "# Import necessary libraries\n",
        "import torch\n",
        "import torch.nn as nn\n",
        "import torchvision\n",
        "from torchvision import datasets, transforms\n",
        "\n",
        "class MyANN(nn.Module):\n",
        "  \n",
        "  def __init__(self):\n",
        "    super().__init__()\n",
        "    self.fc1 = nn.Linear(2, 50) \n",
        "    self.av1 = nn.ReLU()   \n",
        "    self.fc2 = nn.Linear(50, 50)    \n",
        "    self.av2 = nn.ReLU()\n",
        "    self.fc3 = nn.Linear(50, 50) \n",
        "    self.av3 = nn.ReLU() \n",
        "    self.fc4 = nn.Linear(50, 2) \n",
        "    self.av4 = nn.Sigmoid() \n",
        "    return\n",
        "\n",
        "\n",
        "  def forward(self, x):\n",
        "    x = self.fc1(x)\n",
        "    x = self.av1(x)\n",
        "    x = self.fc2(x)\n",
        "    x = self.av2(x)\n",
        "    x = self.fc3(x)\n",
        "    x = self.av3(x)\n",
        "\n",
        "    x = self.fc4(x)\n",
        "    x = self.av4(x)\n",
        "    return nn.functional.log_softmax(x, dim=1)\n",
        "\n",
        "net = MyANN()\n",
        "print(net)"
      ],
      "execution_count": 65,
      "outputs": [
        {
          "output_type": "stream",
          "name": "stdout",
          "text": [
            "MyANN(\n",
            "  (fc1): Linear(in_features=2, out_features=50, bias=True)\n",
            "  (av1): ReLU()\n",
            "  (fc2): Linear(in_features=50, out_features=50, bias=True)\n",
            "  (av2): ReLU()\n",
            "  (fc3): Linear(in_features=50, out_features=50, bias=True)\n",
            "  (av3): ReLU()\n",
            "  (fc4): Linear(in_features=50, out_features=2, bias=True)\n",
            "  (av4): Sigmoid()\n",
            ")\n"
          ]
        }
      ]
    },
    {
      "cell_type": "code",
      "metadata": {
        "colab": {
          "base_uri": "https://localhost:8080/"
        },
        "id": "PhOk8R5Yl0if",
        "outputId": "da80c481-3a45-4685-ff28-2a20722ec527"
      },
      "source": [
        "# Train my neural network.\n",
        "optimizer = torch.optim.Adam(net.parameters(), lr=0.001)\n",
        "for epocs in range(10):\n",
        "  for data in train_dl:\n",
        "    X, y = data\n",
        "    optimizer.zero_grad() # clear gradient information.\n",
        "    output = net(X.view(-1, 2))\n",
        "    loss = nn.functional.nll_loss(output, y)\n",
        "    loss.backward() # do back-propagation step\n",
        "  optimizer.step() # tell optimizer that you finished batch/iteration.\n",
        "  print(loss.data)"
      ],
      "execution_count": 67,
      "outputs": [
        {
          "output_type": "stream",
          "name": "stdout",
          "text": [
            "tensor(0.6989)\n",
            "tensor(0.6954)\n",
            "tensor(0.6933)\n",
            "tensor(0.6916)\n",
            "tensor(0.6911)\n",
            "tensor(0.6858)\n",
            "tensor(0.6831)\n",
            "tensor(0.6816)\n",
            "tensor(0.6872)\n",
            "tensor(0.6725)\n"
          ]
        }
      ]
    },
    {
      "cell_type": "code",
      "metadata": {
        "colab": {
          "base_uri": "https://localhost:8080/"
        },
        "id": "RZ3oUfz0oKoH",
        "outputId": "be2d6a94-9d50-428b-a00a-5dcd5af82c9a"
      },
      "source": [
        "# Evaluate the trained network.\n",
        "total = 0\n",
        "correct = 0\n",
        "with torch.no_grad(): \n",
        "  for data in test_dl:\n",
        "    X, y = data\n",
        "    output = net(X.view(-1, 2))    \n",
        "    for idx, val in enumerate(output):\n",
        "      if torch.argmax(val) == y[idx]:\n",
        "        correct += 1\n",
        "      total += 1\n",
        "  print('Accuracy:', round(correct/total, 3))"
      ],
      "execution_count": 69,
      "outputs": [
        {
          "output_type": "stream",
          "name": "stdout",
          "text": [
            "Accuracy: 0.77\n"
          ]
        }
      ]
    }
  ]
}